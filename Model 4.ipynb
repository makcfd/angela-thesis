{
 "cells": [
  {
   "cell_type": "code",
   "execution_count": 131,
   "metadata": {},
   "outputs": [],
   "source": [
    "import pandas as pd\n",
    "import numpy as np\n",
    "import matplotlib.pyplot as plt\n",
    "import seaborn as sns\n",
    "from scipy import stats as st\n",
    "import plotly.graph_objects as go\n",
    "import plotly.express as px\n",
    "\n",
    "from sklearn.model_selection import train_test_split\n",
    "from sklearn.preprocessing import StandardScaler\n",
    "\n",
    "from sklearn.metrics import accuracy_score, f1_score, roc_curve, roc_auc_score \n",
    "\n",
    "from sklearn.utils import shuffle\n",
    "\n",
    "from sklearn.linear_model import LinearRegression\n",
    "from sklearn.metrics import mean_absolute_error\n",
    "from sklearn.metrics import mean_squared_error\n",
    "\n",
    "import eli5\n",
    "pd.options.display.float_format = '{:,.1f}'.format\n",
    "\n",
    "from eli5.formatters import format_as_dataframe"
   ]
  },
  {
   "cell_type": "code",
   "execution_count": 55,
   "metadata": {},
   "outputs": [],
   "source": [
    "data = pd.read_csv('data2801.csv',sep=';')"
   ]
  },
  {
   "cell_type": "code",
   "execution_count": 34,
   "metadata": {},
   "outputs": [
    {
     "data": {
      "text/html": [
       "<div>\n",
       "<style scoped>\n",
       "    .dataframe tbody tr th:only-of-type {\n",
       "        vertical-align: middle;\n",
       "    }\n",
       "\n",
       "    .dataframe tbody tr th {\n",
       "        vertical-align: top;\n",
       "    }\n",
       "\n",
       "    .dataframe thead th {\n",
       "        text-align: right;\n",
       "    }\n",
       "</style>\n",
       "<table border=\"1\" class=\"dataframe\">\n",
       "  <thead>\n",
       "    <tr style=\"text-align: right;\">\n",
       "      <th></th>\n",
       "      <th>X.1</th>\n",
       "      <th>X</th>\n",
       "      <th>year</th>\n",
       "      <th>iso3_o</th>\n",
       "      <th>iso3_d</th>\n",
       "      <th>contig</th>\n",
       "      <th>dist</th>\n",
       "      <th>comlang_off</th>\n",
       "      <th>comrelig</th>\n",
       "      <th>gdp_o</th>\n",
       "      <th>...</th>\n",
       "      <th>rta</th>\n",
       "      <th>rta_coverage</th>\n",
       "      <th>rta_type</th>\n",
       "      <th>iso3num_o_y</th>\n",
       "      <th>iso3num_d_y</th>\n",
       "      <th>destTotImp</th>\n",
       "      <th>HHI_value</th>\n",
       "      <th>tr_flows</th>\n",
       "      <th>MS</th>\n",
       "      <th>olig_cor</th>\n",
       "    </tr>\n",
       "  </thead>\n",
       "  <tbody>\n",
       "    <tr>\n",
       "      <th>0</th>\n",
       "      <td>0</td>\n",
       "      <td>7</td>\n",
       "      <td>2007</td>\n",
       "      <td>ALB</td>\n",
       "      <td>AUT</td>\n",
       "      <td>0</td>\n",
       "      <td>812,933</td>\n",
       "      <td>0</td>\n",
       "      <td>0,001</td>\n",
       "      <td>10701011,968</td>\n",
       "      <td>...</td>\n",
       "      <td>1</td>\n",
       "      <td>1</td>\n",
       "      <td>5</td>\n",
       "      <td>8</td>\n",
       "      <td>40</td>\n",
       "      <td>4404946520</td>\n",
       "      <td>0,34</td>\n",
       "      <td>38736</td>\n",
       "      <td>0,00000879375034955022</td>\n",
       "      <td>-0,0000119595004753883</td>\n",
       "    </tr>\n",
       "    <tr>\n",
       "      <th>1</th>\n",
       "      <td>4</td>\n",
       "      <td>11</td>\n",
       "      <td>2007</td>\n",
       "      <td>ALB</td>\n",
       "      <td>DEU</td>\n",
       "      <td>0</td>\n",
       "      <td>1493,096</td>\n",
       "      <td>0</td>\n",
       "      <td>0</td>\n",
       "      <td>10701011,968</td>\n",
       "      <td>...</td>\n",
       "      <td>1</td>\n",
       "      <td>1</td>\n",
       "      <td>5</td>\n",
       "      <td>8</td>\n",
       "      <td>276</td>\n",
       "      <td>38729776000</td>\n",
       "      <td>0,34</td>\n",
       "      <td>1000</td>\n",
       "      <td>0,0000000258199272828224</td>\n",
       "      <td>-0,0000000351151011046385</td>\n",
       "    </tr>\n",
       "    <tr>\n",
       "      <th>2</th>\n",
       "      <td>5</td>\n",
       "      <td>12</td>\n",
       "      <td>2007</td>\n",
       "      <td>ALB</td>\n",
       "      <td>GRC</td>\n",
       "      <td>1</td>\n",
       "      <td>500,124</td>\n",
       "      <td>0</td>\n",
       "      <td>0,003</td>\n",
       "      <td>10701011,968</td>\n",
       "      <td>...</td>\n",
       "      <td>1</td>\n",
       "      <td>1</td>\n",
       "      <td>5</td>\n",
       "      <td>8</td>\n",
       "      <td>300</td>\n",
       "      <td>4411954035</td>\n",
       "      <td>0,34</td>\n",
       "      <td>11904</td>\n",
       "      <td>0,00000269812421107873</td>\n",
       "      <td>-0,00000366944892706708</td>\n",
       "    </tr>\n",
       "    <tr>\n",
       "      <th>3</th>\n",
       "      <td>7</td>\n",
       "      <td>14</td>\n",
       "      <td>2007</td>\n",
       "      <td>ALB</td>\n",
       "      <td>ITA</td>\n",
       "      <td>0</td>\n",
       "      <td>611,763</td>\n",
       "      <td>0</td>\n",
       "      <td>0</td>\n",
       "      <td>10701011,968</td>\n",
       "      <td>...</td>\n",
       "      <td>1</td>\n",
       "      <td>1</td>\n",
       "      <td>5</td>\n",
       "      <td>8</td>\n",
       "      <td>381</td>\n",
       "      <td>15399984966</td>\n",
       "      <td>0,34</td>\n",
       "      <td>7921</td>\n",
       "      <td>0,000000514351151477611</td>\n",
       "      <td>-0,000000699517566009551</td>\n",
       "    </tr>\n",
       "    <tr>\n",
       "      <th>4</th>\n",
       "      <td>11</td>\n",
       "      <td>19</td>\n",
       "      <td>2007</td>\n",
       "      <td>DZA</td>\n",
       "      <td>CAN</td>\n",
       "      <td>0</td>\n",
       "      <td>6747,007</td>\n",
       "      <td>1</td>\n",
       "      <td>0,008</td>\n",
       "      <td>134977871,872</td>\n",
       "      <td>...</td>\n",
       "      <td>0</td>\n",
       "      <td>0</td>\n",
       "      <td>6</td>\n",
       "      <td>12</td>\n",
       "      <td>124</td>\n",
       "      <td>10123052238</td>\n",
       "      <td>0,14</td>\n",
       "      <td>1830</td>\n",
       "      <td>0,000000180775516808116</td>\n",
       "      <td>-0,000000101234289412545</td>\n",
       "    </tr>\n",
       "  </tbody>\n",
       "</table>\n",
       "<p>5 rows × 27 columns</p>\n",
       "</div>"
      ],
      "text/plain": [
       "   X.1   X  year iso3_o iso3_d  contig      dist  comlang_off comrelig  \\\n",
       "0    0   7  2007    ALB    AUT       0   812,933            0    0,001   \n",
       "1    4  11  2007    ALB    DEU       0  1493,096            0        0   \n",
       "2    5  12  2007    ALB    GRC       1   500,124            0    0,003   \n",
       "3    7  14  2007    ALB    ITA       0   611,763            0        0   \n",
       "4   11  19  2007    DZA    CAN       0  6747,007            1    0,008   \n",
       "\n",
       "           gdp_o  ... rta  rta_coverage  rta_type  iso3num_o_y  iso3num_d_y  \\\n",
       "0   10701011,968  ...   1             1         5            8           40   \n",
       "1   10701011,968  ...   1             1         5            8          276   \n",
       "2   10701011,968  ...   1             1         5            8          300   \n",
       "3   10701011,968  ...   1             1         5            8          381   \n",
       "4  134977871,872  ...   0             0         6           12          124   \n",
       "\n",
       "    destTotImp  HHI_value  tr_flows                        MS  \\\n",
       "0   4404946520       0,34     38736    0,00000879375034955022   \n",
       "1  38729776000       0,34      1000  0,0000000258199272828224   \n",
       "2   4411954035       0,34     11904    0,00000269812421107873   \n",
       "3  15399984966       0,34      7921   0,000000514351151477611   \n",
       "4  10123052238       0,14      1830   0,000000180775516808116   \n",
       "\n",
       "                    olig_cor  \n",
       "0     -0,0000119595004753883  \n",
       "1  -0,0000000351151011046385  \n",
       "2    -0,00000366944892706708  \n",
       "3   -0,000000699517566009551  \n",
       "4   -0,000000101234289412545  \n",
       "\n",
       "[5 rows x 27 columns]"
      ]
     },
     "execution_count": 34,
     "metadata": {},
     "output_type": "execute_result"
    }
   ],
   "source": [
    "data.head()"
   ]
  },
  {
   "cell_type": "markdown",
   "metadata": {},
   "source": [
    "reg4 <- lm(log(tr_flows) ~ log(dist) +\n",
    "             dummy(rta) +\n",
    "             dummy(contig) +\n",
    "             dummy(comlang_off) +\n",
    "             + dummy(year)+ dummy(iso3_o) + dummy(iso3_d), data = dat)"
   ]
  },
  {
   "cell_type": "code",
   "execution_count": 56,
   "metadata": {},
   "outputs": [],
   "source": [
    "data = data[['dist','tr_flows','rta','contig','year','comlang_off','iso3_o','iso3_d']]"
   ]
  },
  {
   "cell_type": "code",
   "execution_count": 36,
   "metadata": {},
   "outputs": [
    {
     "name": "stdout",
     "output_type": "stream",
     "text": [
      "<class 'pandas.core.frame.DataFrame'>\n",
      "RangeIndex: 48505 entries, 0 to 48504\n",
      "Data columns (total 8 columns):\n",
      " #   Column       Non-Null Count  Dtype \n",
      "---  ------       --------------  ----- \n",
      " 0   dist         48505 non-null  object\n",
      " 1   tr_flows     48505 non-null  object\n",
      " 2   rta          48505 non-null  int64 \n",
      " 3   contig       48505 non-null  int64 \n",
      " 4   year         48505 non-null  int64 \n",
      " 5   comlang_off  48505 non-null  int64 \n",
      " 6   iso3_o       48505 non-null  object\n",
      " 7   iso3_d       48505 non-null  object\n",
      "dtypes: int64(4), object(4)\n",
      "memory usage: 3.0+ MB\n"
     ]
    }
   ],
   "source": [
    "data.info()"
   ]
  },
  {
   "cell_type": "code",
   "execution_count": 37,
   "metadata": {},
   "outputs": [
    {
     "data": {
      "text/html": [
       "<div>\n",
       "<style scoped>\n",
       "    .dataframe tbody tr th:only-of-type {\n",
       "        vertical-align: middle;\n",
       "    }\n",
       "\n",
       "    .dataframe tbody tr th {\n",
       "        vertical-align: top;\n",
       "    }\n",
       "\n",
       "    .dataframe thead th {\n",
       "        text-align: right;\n",
       "    }\n",
       "</style>\n",
       "<table border=\"1\" class=\"dataframe\">\n",
       "  <thead>\n",
       "    <tr style=\"text-align: right;\">\n",
       "      <th></th>\n",
       "      <th>dist</th>\n",
       "      <th>tr_flows</th>\n",
       "      <th>rta</th>\n",
       "      <th>contig</th>\n",
       "      <th>year</th>\n",
       "      <th>comlang_off</th>\n",
       "      <th>iso3_o</th>\n",
       "      <th>iso3_d</th>\n",
       "    </tr>\n",
       "  </thead>\n",
       "  <tbody>\n",
       "    <tr>\n",
       "      <th>1823</th>\n",
       "      <td>7864,644</td>\n",
       "      <td>27,9999999999999</td>\n",
       "      <td>0</td>\n",
       "      <td>0</td>\n",
       "      <td>2007</td>\n",
       "      <td>0</td>\n",
       "      <td>HKG</td>\n",
       "      <td>EST</td>\n",
       "    </tr>\n",
       "  </tbody>\n",
       "</table>\n",
       "</div>"
      ],
      "text/plain": [
       "          dist          tr_flows  rta  contig  year  comlang_off iso3_o iso3_d\n",
       "1823  7864,644  27,9999999999999    0       0  2007            0    HKG    EST"
      ]
     },
     "execution_count": 37,
     "metadata": {},
     "output_type": "execute_result"
    }
   ],
   "source": [
    "data[data['tr_flows'] == '27,9999999999999']"
   ]
  },
  {
   "cell_type": "code",
   "execution_count": 91,
   "metadata": {},
   "outputs": [],
   "source": [
    "#lambda <arguments> : <Return Value if condition is True> if <condition> else <Return Value if condition is False>\n",
    "#lambda x : True if (x > 10 and x < 20) else False"
   ]
  },
  {
   "cell_type": "code",
   "execution_count": 83,
   "metadata": {},
   "outputs": [
    {
     "data": {
      "text/plain": [
       "1823     27,9999999999999\n",
       "9113     49,9999999999999\n",
       "10819    20,9999999999999\n",
       "15343    41,9999999999999\n",
       "15387    82,9999999999999\n",
       "26358    55,9999999999999\n",
       "27694    28,9999999999999\n",
       "28954    28,9999999999999\n",
       "30430    54,9999999999999\n",
       "32492    99,9999999999999\n",
       "32556    68,9999999999999\n",
       "40444    55,9999999999999\n",
       "Name: tr_flows, dtype: object"
      ]
     },
     "execution_count": 83,
     "metadata": {},
     "output_type": "execute_result"
    }
   ],
   "source": [
    "data[data['tr_flows'].apply(lambda x: ',99999' in x)]['tr_flows']"
   ]
  },
  {
   "cell_type": "code",
   "execution_count": 89,
   "metadata": {},
   "outputs": [],
   "source": [
    "data['tr_flows'] = data['tr_flows'].apply(lambda row: int(row.split(',')[0])+1 if (',99999' in row) else int(row))"
   ]
  },
  {
   "cell_type": "code",
   "execution_count": 90,
   "metadata": {},
   "outputs": [
    {
     "data": {
      "image/png": "[encoded data removed]",
      "text/plain": [
       "<Figure size 432x288 with 1 Axes>"
      ]
     },
     "metadata": {
      "needs_background": "light"
     },
     "output_type": "display_data"
    }
   ],
   "source": [
    "plt.boxplot(data['tr_flows'])\n",
    "plt.show()"
   ]
  },
  {
   "cell_type": "code",
   "execution_count": 101,
   "metadata": {},
   "outputs": [],
   "source": [
    "data['dist'] = data['dist'].apply(lambda row: row.replace(',','.') if (',' in row) else row)"
   ]
  },
  {
   "cell_type": "code",
   "execution_count": 104,
   "metadata": {},
   "outputs": [],
   "source": [
    "data['dist'] = pd.to_numeric(data['dist'], downcast=\"float\")"
   ]
  },
  {
   "cell_type": "code",
   "execution_count": 105,
   "metadata": {},
   "outputs": [
    {
     "name": "stdout",
     "output_type": "stream",
     "text": [
      "<class 'pandas.core.frame.DataFrame'>\n",
      "RangeIndex: 48505 entries, 0 to 48504\n",
      "Data columns (total 8 columns):\n",
      " #   Column       Non-Null Count  Dtype  \n",
      "---  ------       --------------  -----  \n",
      " 0   dist         48505 non-null  float32\n",
      " 1   tr_flows     48505 non-null  int64  \n",
      " 2   rta          48505 non-null  int64  \n",
      " 3   contig       48505 non-null  int64  \n",
      " 4   year         48505 non-null  int64  \n",
      " 5   comlang_off  48505 non-null  int64  \n",
      " 6   iso3_o       48505 non-null  object \n",
      " 7   iso3_d       48505 non-null  object \n",
      "dtypes: float32(1), int64(5), object(2)\n",
      "memory usage: 2.8+ MB\n"
     ]
    }
   ],
   "source": [
    "data.info()"
   ]
  },
  {
   "cell_type": "code",
   "execution_count": 106,
   "metadata": {},
   "outputs": [
    {
     "name": "stderr",
     "output_type": "stream",
     "text": [
      "<ipython-input-106-7101813f6477>:2: SettingWithCopyWarning: \n",
      "A value is trying to be set on a copy of a slice from a DataFrame.\n",
      "Try using .loc[row_indexer,col_indexer] = value instead\n",
      "\n",
      "See the caveats in the documentation: https://pandas.pydata.org/pandas-docs/stable/user_guide/indexing.html#returning-a-view-versus-a-copy\n",
      "  data_log['tr_flows_log'] = np.log(data['tr_flows'])\n"
     ]
    }
   ],
   "source": [
    "data_log = data[['rta','contig','year','comlang_off','iso3_o','iso3_d']]\n",
    "data_log['tr_flows_log'] = np.log(data['tr_flows'])\n",
    "data_log['dist_log'] = np.log(data['dist'])"
   ]
  },
  {
   "cell_type": "code",
   "execution_count": 108,
   "metadata": {},
   "outputs": [
    {
     "data": {
      "text/html": [
       "<div>\n",
       "<style scoped>\n",
       "    .dataframe tbody tr th:only-of-type {\n",
       "        vertical-align: middle;\n",
       "    }\n",
       "\n",
       "    .dataframe tbody tr th {\n",
       "        vertical-align: top;\n",
       "    }\n",
       "\n",
       "    .dataframe thead th {\n",
       "        text-align: right;\n",
       "    }\n",
       "</style>\n",
       "<table border=\"1\" class=\"dataframe\">\n",
       "  <thead>\n",
       "    <tr style=\"text-align: right;\">\n",
       "      <th></th>\n",
       "      <th>rta</th>\n",
       "      <th>contig</th>\n",
       "      <th>year</th>\n",
       "      <th>comlang_off</th>\n",
       "      <th>tr_flows_log</th>\n",
       "      <th>dist_log</th>\n",
       "    </tr>\n",
       "  </thead>\n",
       "  <tbody>\n",
       "    <tr>\n",
       "      <th>count</th>\n",
       "      <td>48,505.0</td>\n",
       "      <td>48,505.0</td>\n",
       "      <td>48,505.0</td>\n",
       "      <td>48,505.0</td>\n",
       "      <td>48,505.0</td>\n",
       "      <td>48,505.0</td>\n",
       "    </tr>\n",
       "    <tr>\n",
       "      <th>mean</th>\n",
       "      <td>0.3</td>\n",
       "      <td>0.0</td>\n",
       "      <td>2,011.0</td>\n",
       "      <td>0.2</td>\n",
       "      <td>12.9</td>\n",
       "      <td>8.5</td>\n",
       "    </tr>\n",
       "    <tr>\n",
       "      <th>std</th>\n",
       "      <td>0.5</td>\n",
       "      <td>0.2</td>\n",
       "      <td>2.5</td>\n",
       "      <td>0.4</td>\n",
       "      <td>2.9</td>\n",
       "      <td>0.9</td>\n",
       "    </tr>\n",
       "    <tr>\n",
       "      <th>min</th>\n",
       "      <td>0.0</td>\n",
       "      <td>0.0</td>\n",
       "      <td>2,007.0</td>\n",
       "      <td>0.0</td>\n",
       "      <td>0.0</td>\n",
       "      <td>4.1</td>\n",
       "    </tr>\n",
       "    <tr>\n",
       "      <th>25%</th>\n",
       "      <td>0.0</td>\n",
       "      <td>0.0</td>\n",
       "      <td>2,009.0</td>\n",
       "      <td>0.0</td>\n",
       "      <td>11.2</td>\n",
       "      <td>7.9</td>\n",
       "    </tr>\n",
       "    <tr>\n",
       "      <th>50%</th>\n",
       "      <td>0.0</td>\n",
       "      <td>0.0</td>\n",
       "      <td>2,011.0</td>\n",
       "      <td>0.0</td>\n",
       "      <td>13.3</td>\n",
       "      <td>8.8</td>\n",
       "    </tr>\n",
       "    <tr>\n",
       "      <th>75%</th>\n",
       "      <td>1.0</td>\n",
       "      <td>0.0</td>\n",
       "      <td>2,013.0</td>\n",
       "      <td>0.0</td>\n",
       "      <td>15.1</td>\n",
       "      <td>9.2</td>\n",
       "    </tr>\n",
       "    <tr>\n",
       "      <th>max</th>\n",
       "      <td>1.0</td>\n",
       "      <td>1.0</td>\n",
       "      <td>2,015.0</td>\n",
       "      <td>1.0</td>\n",
       "      <td>17.2</td>\n",
       "      <td>9.9</td>\n",
       "    </tr>\n",
       "  </tbody>\n",
       "</table>\n",
       "</div>"
      ],
      "text/plain": [
       "           rta   contig     year  comlang_off  tr_flows_log  dist_log\n",
       "count 48,505.0 48,505.0 48,505.0     48,505.0      48,505.0  48,505.0\n",
       "mean       0.3      0.0  2,011.0          0.2          12.9       8.5\n",
       "std        0.5      0.2      2.5          0.4           2.9       0.9\n",
       "min        0.0      0.0  2,007.0          0.0           0.0       4.1\n",
       "25%        0.0      0.0  2,009.0          0.0          11.2       7.9\n",
       "50%        0.0      0.0  2,011.0          0.0          13.3       8.8\n",
       "75%        1.0      0.0  2,013.0          0.0          15.1       9.2\n",
       "max        1.0      1.0  2,015.0          1.0          17.2       9.9"
      ]
     },
     "execution_count": 108,
     "metadata": {},
     "output_type": "execute_result"
    }
   ],
   "source": [
    "data_log.describe()"
   ]
  },
  {
   "cell_type": "code",
   "execution_count": 111,
   "metadata": {},
   "outputs": [],
   "source": [
    "numeric = ['tr_flows_log','dist_log']"
   ]
  },
  {
   "cell_type": "code",
   "execution_count": 112,
   "metadata": {},
   "outputs": [],
   "source": [
    "scaler = StandardScaler()\n",
    "scaler.fit(data_log[numeric])\n",
    "data_log[numeric] = scaler.transform(data_log[numeric])"
   ]
  },
  {
   "cell_type": "code",
   "execution_count": 113,
   "metadata": {},
   "outputs": [],
   "source": [
    "data_log_transformed = pd.get_dummies(data_log, drop_first=True)"
   ]
  },
  {
   "cell_type": "code",
   "execution_count": 115,
   "metadata": {},
   "outputs": [],
   "source": [
    "features = data_log_transformed.drop(['tr_flows_log'], axis=1)\n",
    "target = data_log_transformed['tr_flows_log']"
   ]
  },
  {
   "cell_type": "code",
   "execution_count": 116,
   "metadata": {},
   "outputs": [],
   "source": [
    "features_train, features_valid, target_train, target_valid = train_test_split(\n",
    "    features, \n",
    "    target, \n",
    "    train_size=0.75, \n",
    "    test_size=0.25, \n",
    "    random_state=12345)"
   ]
  },
  {
   "cell_type": "code",
   "execution_count": 117,
   "metadata": {},
   "outputs": [
    {
     "name": "stdout",
     "output_type": "stream",
     "text": [
      "model MAE:  0.5379939804428059\n",
      "model RMSE:  0.5178244828669204\n",
      "predicted mean:  0.002678086490077538\n"
     ]
    }
   ],
   "source": [
    "model = LinearRegression()\n",
    "model.fit(features_train, target_train)\n",
    "predicted_valid = model.predict(features_valid)\n",
    "MAE = mean_absolute_error(target_valid,predicted_valid)\n",
    "RMSE = mean_squared_error(target_valid,predicted_valid)\n",
    "\n",
    "print('model MAE: ', MAE)\n",
    "print('model RMSE: ', RMSE)\n",
    "print('predicted mean: ', predicted_valid.mean())"
   ]
  },
  {
   "cell_type": "code",
   "execution_count": 118,
   "metadata": {},
   "outputs": [],
   "source": [
    "feature_names = [col for col in list(features.columns)]"
   ]
  },
  {
   "cell_type": "code",
   "execution_count": 137,
   "metadata": {},
   "outputs": [],
   "source": [
    "weights = eli5.explain_weights(model,top = 300, feature_names = feature_names, target_names = ['tr_flows_log'])"
   ]
  },
  {
   "cell_type": "code",
   "execution_count": 138,
   "metadata": {},
   "outputs": [],
   "source": [
    "\n",
    "weights = format_as_dataframe(weights)"
   ]
  },
  {
   "cell_type": "code",
   "execution_count": 139,
   "metadata": {},
   "outputs": [
    {
     "data": {
      "text/html": [
       "<div>\n",
       "<style scoped>\n",
       "    .dataframe tbody tr th:only-of-type {\n",
       "        vertical-align: middle;\n",
       "    }\n",
       "\n",
       "    .dataframe tbody tr th {\n",
       "        vertical-align: top;\n",
       "    }\n",
       "\n",
       "    .dataframe thead th {\n",
       "        text-align: right;\n",
       "    }\n",
       "</style>\n",
       "<table border=\"1\" class=\"dataframe\">\n",
       "  <thead>\n",
       "    <tr style=\"text-align: right;\">\n",
       "      <th></th>\n",
       "      <th>target</th>\n",
       "      <th>feature</th>\n",
       "      <th>weight</th>\n",
       "    </tr>\n",
       "  </thead>\n",
       "  <tbody>\n",
       "    <tr>\n",
       "      <th>0</th>\n",
       "      <td>tr_flows_log</td>\n",
       "      <td>iso3_o_USA</td>\n",
       "      <td>4.1</td>\n",
       "    </tr>\n",
       "    <tr>\n",
       "      <th>1</th>\n",
       "      <td>tr_flows_log</td>\n",
       "      <td>iso3_o_IND</td>\n",
       "      <td>4.1</td>\n",
       "    </tr>\n",
       "    <tr>\n",
       "      <th>2</th>\n",
       "      <td>tr_flows_log</td>\n",
       "      <td>iso3_o_CHN</td>\n",
       "      <td>4.0</td>\n",
       "    </tr>\n",
       "    <tr>\n",
       "      <th>3</th>\n",
       "      <td>tr_flows_log</td>\n",
       "      <td>iso3_o_DEU</td>\n",
       "      <td>4.0</td>\n",
       "    </tr>\n",
       "    <tr>\n",
       "      <th>4</th>\n",
       "      <td>tr_flows_log</td>\n",
       "      <td>iso3_o_FRA</td>\n",
       "      <td>3.9</td>\n",
       "    </tr>\n",
       "    <tr>\n",
       "      <th>...</th>\n",
       "      <td>...</td>\n",
       "      <td>...</td>\n",
       "      <td>...</td>\n",
       "    </tr>\n",
       "    <tr>\n",
       "      <th>286</th>\n",
       "      <td>tr_flows_log</td>\n",
       "      <td>iso3_d_FSM</td>\n",
       "      <td>-1.2</td>\n",
       "    </tr>\n",
       "    <tr>\n",
       "      <th>287</th>\n",
       "      <td>tr_flows_log</td>\n",
       "      <td>iso3_d_KNA</td>\n",
       "      <td>-1.2</td>\n",
       "    </tr>\n",
       "    <tr>\n",
       "      <th>288</th>\n",
       "      <td>tr_flows_log</td>\n",
       "      <td>iso3_d_AND</td>\n",
       "      <td>-1.2</td>\n",
       "    </tr>\n",
       "    <tr>\n",
       "      <th>289</th>\n",
       "      <td>tr_flows_log</td>\n",
       "      <td>iso3_d_GRL</td>\n",
       "      <td>-1.8</td>\n",
       "    </tr>\n",
       "    <tr>\n",
       "      <th>290</th>\n",
       "      <td>tr_flows_log</td>\n",
       "      <td>&lt;BIAS&gt;</td>\n",
       "      <td>-69.6</td>\n",
       "    </tr>\n",
       "  </tbody>\n",
       "</table>\n",
       "<p>291 rows × 3 columns</p>\n",
       "</div>"
      ],
      "text/plain": [
       "           target     feature  weight\n",
       "0    tr_flows_log  iso3_o_USA     4.1\n",
       "1    tr_flows_log  iso3_o_IND     4.1\n",
       "2    tr_flows_log  iso3_o_CHN     4.0\n",
       "3    tr_flows_log  iso3_o_DEU     4.0\n",
       "4    tr_flows_log  iso3_o_FRA     3.9\n",
       "..            ...         ...     ...\n",
       "286  tr_flows_log  iso3_d_FSM    -1.2\n",
       "287  tr_flows_log  iso3_d_KNA    -1.2\n",
       "288  tr_flows_log  iso3_d_AND    -1.2\n",
       "289  tr_flows_log  iso3_d_GRL    -1.8\n",
       "290  tr_flows_log      <BIAS>   -69.6\n",
       "\n",
       "[291 rows x 3 columns]"
      ]
     },
     "execution_count": 139,
     "metadata": {},
     "output_type": "execute_result"
    }
   ],
   "source": [
    "weights"
   ]
  },
  {
   "cell_type": "code",
   "execution_count": 122,
   "metadata": {},
   "outputs": [
    {
     "ename": "AttributeError",
     "evalue": "'Explanation' object has no attribute 'to_csv'",
     "output_type": "error",
     "traceback": [
      "\u001b[0;31m---------------------------------------------------------------------------\u001b[0m",
      "\u001b[0;31mAttributeError\u001b[0m                            Traceback (most recent call last)",
      "\u001b[0;32m<ipython-input-122-d1b510fcac7c>\u001b[0m in \u001b[0;36m<module>\u001b[0;34m\u001b[0m\n\u001b[0;32m----> 1\u001b[0;31m \u001b[0mweights\u001b[0m\u001b[0;34m.\u001b[0m\u001b[0mto_csv\u001b[0m\u001b[0;34m(\u001b[0m\u001b[0;34m'model_4_weights.csv'\u001b[0m\u001b[0;34m)\u001b[0m\u001b[0;34m\u001b[0m\u001b[0;34m\u001b[0m\u001b[0m\n\u001b[0m",
      "\u001b[0;31mAttributeError\u001b[0m: 'Explanation' object has no attribute 'to_csv'"
     ]
    }
   ],
   "source": [
    "weights.to_csv('model_4_weights.csv')"
   ]
  },
  {
   "cell_type": "code",
   "execution_count": null,
   "metadata": {},
   "outputs": [],
   "source": []
  }
 ],
 "metadata": {
  "kernelspec": {
   "display_name": "Python 3",
   "language": "python",
   "name": "python3"
  },
  "language_info": {
   "codemirror_mode": {
    "name": "ipython",
    "version": 3
   },
   "file_extension": ".py",
   "mimetype": "text/x-python",
   "name": "python",
   "nbconvert_exporter": "python",
   "pygments_lexer": "ipython3",
   "version": "3.9.0"
  }
 },
 "nbformat": 4,
 "nbformat_minor": 4
}
