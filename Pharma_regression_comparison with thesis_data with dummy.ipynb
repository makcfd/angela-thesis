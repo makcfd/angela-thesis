{
 "cells": [
  {
   "cell_type": "code",
   "execution_count": 56,
   "metadata": {},
   "outputs": [],
   "source": [
    "import pandas as pd\n",
    "import numpy as np\n",
    "import matplotlib.pyplot as plt\n",
    "import seaborn as sns\n",
    "from scipy import stats as st\n",
    "import plotly.graph_objects as go\n",
    "import plotly.express as px\n",
    "\n",
    "from sklearn.model_selection import train_test_split\n",
    "from sklearn.preprocessing import StandardScaler\n",
    "\n",
    "from sklearn.metrics import accuracy_score, f1_score, roc_curve, roc_auc_score \n",
    "\n",
    "from sklearn.utils import shuffle\n",
    "\n",
    "from sklearn.linear_model import LinearRegression\n",
    "from sklearn.metrics import mean_absolute_error\n",
    "from sklearn.metrics import mean_squared_error\n",
    "\n",
    "import eli5\n",
    "pd.options.display.float_format = '{:,.1f}'.format\n",
    "\n",
    "from eli5.formatters import format_as_dataframe\n",
    "\n",
    "\n",
    "import warnings\n",
    "warnings.filterwarnings(\"ignore\")"
   ]
  },
  {
   "cell_type": "code",
   "execution_count": 57,
   "metadata": {},
   "outputs": [],
   "source": [
    "# data26 = pd.read_csv('data2601.csv', sep=';')\n",
    "# data26.head()"
   ]
  },
  {
   "cell_type": "code",
   "execution_count": 58,
   "metadata": {},
   "outputs": [],
   "source": [
    "# data26[(data26['iso3_o'] == 'USA') & (data26['iso3_d'] == 'DEU')]"
   ]
  },
  {
   "cell_type": "code",
   "execution_count": 59,
   "metadata": {},
   "outputs": [],
   "source": [
    "# data26[(data26['iso3_o'] == 'DEU') & (data26['iso3_d'] == 'USA')]"
   ]
  },
  {
   "cell_type": "markdown",
   "metadata": {},
   "source": [
    "## Reading and preprocessing data"
   ]
  },
  {
   "cell_type": "code",
   "execution_count": 60,
   "metadata": {},
   "outputs": [
    {
     "data": {
      "text/html": [
       "<div>\n",
       "<style scoped>\n",
       "    .dataframe tbody tr th:only-of-type {\n",
       "        vertical-align: middle;\n",
       "    }\n",
       "\n",
       "    .dataframe tbody tr th {\n",
       "        vertical-align: top;\n",
       "    }\n",
       "\n",
       "    .dataframe thead th {\n",
       "        text-align: right;\n",
       "    }\n",
       "</style>\n",
       "<table border=\"1\" class=\"dataframe\">\n",
       "  <thead>\n",
       "    <tr style=\"text-align: right;\">\n",
       "      <th></th>\n",
       "      <th>year</th>\n",
       "      <th>iso3_o</th>\n",
       "      <th>iso3_d</th>\n",
       "      <th>contig</th>\n",
       "      <th>dist</th>\n",
       "      <th>comlang_off</th>\n",
       "      <th>gdp_o</th>\n",
       "      <th>gdp_d</th>\n",
       "      <th>rta</th>\n",
       "      <th>HHI_value</th>\n",
       "      <th>tr_flows</th>\n",
       "      <th>MS</th>\n",
       "    </tr>\n",
       "  </thead>\n",
       "  <tbody>\n",
       "    <tr>\n",
       "      <th>0</th>\n",
       "      <td>2007</td>\n",
       "      <td>ALB</td>\n",
       "      <td>AUT</td>\n",
       "      <td>0</td>\n",
       "      <td>812,933</td>\n",
       "      <td>0</td>\n",
       "      <td>10701011,968</td>\n",
       "      <td>386439118,848</td>\n",
       "      <td>1</td>\n",
       "      <td>0,34</td>\n",
       "      <td>38736</td>\n",
       "      <td>0,00000879375034955022</td>\n",
       "    </tr>\n",
       "    <tr>\n",
       "      <th>1</th>\n",
       "      <td>2007</td>\n",
       "      <td>ALB</td>\n",
       "      <td>DEU</td>\n",
       "      <td>0</td>\n",
       "      <td>1493,096</td>\n",
       "      <td>0</td>\n",
       "      <td>10701011,968</td>\n",
       "      <td>3435506696,192</td>\n",
       "      <td>1</td>\n",
       "      <td>0,34</td>\n",
       "      <td>1000</td>\n",
       "      <td>0,0000000258199272828224</td>\n",
       "    </tr>\n",
       "    <tr>\n",
       "      <th>2</th>\n",
       "      <td>2007</td>\n",
       "      <td>ALB</td>\n",
       "      <td>GRC</td>\n",
       "      <td>1</td>\n",
       "      <td>500,124</td>\n",
       "      <td>0</td>\n",
       "      <td>10701011,968</td>\n",
       "      <td>318668275,712</td>\n",
       "      <td>1</td>\n",
       "      <td>0,34</td>\n",
       "      <td>11904</td>\n",
       "      <td>0,00000269812421107873</td>\n",
       "    </tr>\n",
       "    <tr>\n",
       "      <th>3</th>\n",
       "      <td>2007</td>\n",
       "      <td>ALB</td>\n",
       "      <td>ITA</td>\n",
       "      <td>0</td>\n",
       "      <td>611,763</td>\n",
       "      <td>0</td>\n",
       "      <td>10701011,968</td>\n",
       "      <td>2203972534,272</td>\n",
       "      <td>1</td>\n",
       "      <td>0,34</td>\n",
       "      <td>7921</td>\n",
       "      <td>0,000000514351151477611</td>\n",
       "    </tr>\n",
       "    <tr>\n",
       "      <th>4</th>\n",
       "      <td>2007</td>\n",
       "      <td>DZA</td>\n",
       "      <td>CAN</td>\n",
       "      <td>0</td>\n",
       "      <td>6747,007</td>\n",
       "      <td>1</td>\n",
       "      <td>134977871,872</td>\n",
       "      <td>1457872830,464</td>\n",
       "      <td>0</td>\n",
       "      <td>0,14</td>\n",
       "      <td>1830</td>\n",
       "      <td>0,000000180775516808116</td>\n",
       "    </tr>\n",
       "  </tbody>\n",
       "</table>\n",
       "</div>"
      ],
      "text/plain": [
       "   year iso3_o iso3_d  contig      dist  comlang_off          gdp_o  \\\n",
       "0  2007    ALB    AUT       0   812,933            0   10701011,968   \n",
       "1  2007    ALB    DEU       0  1493,096            0   10701011,968   \n",
       "2  2007    ALB    GRC       1   500,124            0   10701011,968   \n",
       "3  2007    ALB    ITA       0   611,763            0   10701011,968   \n",
       "4  2007    DZA    CAN       0  6747,007            1  134977871,872   \n",
       "\n",
       "            gdp_d  rta HHI_value tr_flows                        MS  \n",
       "0   386439118,848    1      0,34    38736    0,00000879375034955022  \n",
       "1  3435506696,192    1      0,34     1000  0,0000000258199272828224  \n",
       "2   318668275,712    1      0,34    11904    0,00000269812421107873  \n",
       "3  2203972534,272    1      0,34     7921   0,000000514351151477611  \n",
       "4  1457872830,464    0      0,14     1830   0,000000180775516808116  "
      ]
     },
     "execution_count": 60,
     "metadata": {},
     "output_type": "execute_result"
    }
   ],
   "source": [
    "data = pd.read_csv('thesis_data.csv', sep=';')\n",
    "data.head()"
   ]
  },
  {
   "cell_type": "code",
   "execution_count": 61,
   "metadata": {},
   "outputs": [
    {
     "data": {
      "text/html": [
       "<div>\n",
       "<style scoped>\n",
       "    .dataframe tbody tr th:only-of-type {\n",
       "        vertical-align: middle;\n",
       "    }\n",
       "\n",
       "    .dataframe tbody tr th {\n",
       "        vertical-align: top;\n",
       "    }\n",
       "\n",
       "    .dataframe thead th {\n",
       "        text-align: right;\n",
       "    }\n",
       "</style>\n",
       "<table border=\"1\" class=\"dataframe\">\n",
       "  <thead>\n",
       "    <tr style=\"text-align: right;\">\n",
       "      <th></th>\n",
       "      <th>year</th>\n",
       "      <th>iso3_o</th>\n",
       "      <th>iso3_d</th>\n",
       "      <th>contig</th>\n",
       "      <th>dist</th>\n",
       "      <th>comlang_off</th>\n",
       "      <th>gdp_o</th>\n",
       "      <th>gdp_d</th>\n",
       "      <th>rta</th>\n",
       "      <th>HHI_value</th>\n",
       "      <th>tr_flows</th>\n",
       "      <th>MS</th>\n",
       "    </tr>\n",
       "  </thead>\n",
       "  <tbody>\n",
       "  </tbody>\n",
       "</table>\n",
       "</div>"
      ],
      "text/plain": [
       "Empty DataFrame\n",
       "Columns: [year, iso3_o, iso3_d, contig, dist, comlang_off, gdp_o, gdp_d, rta, HHI_value, tr_flows, MS]\n",
       "Index: []"
      ]
     },
     "execution_count": 61,
     "metadata": {},
     "output_type": "execute_result"
    }
   ],
   "source": [
    "data[(data['iso3_o'] == 'USA') & (data['iso3_d'] == 'DEU')]"
   ]
  },
  {
   "cell_type": "code",
   "execution_count": 62,
   "metadata": {},
   "outputs": [
    {
     "data": {
      "text/html": [
       "<div>\n",
       "<style scoped>\n",
       "    .dataframe tbody tr th:only-of-type {\n",
       "        vertical-align: middle;\n",
       "    }\n",
       "\n",
       "    .dataframe tbody tr th {\n",
       "        vertical-align: top;\n",
       "    }\n",
       "\n",
       "    .dataframe thead th {\n",
       "        text-align: right;\n",
       "    }\n",
       "</style>\n",
       "<table border=\"1\" class=\"dataframe\">\n",
       "  <thead>\n",
       "    <tr style=\"text-align: right;\">\n",
       "      <th></th>\n",
       "      <th>year</th>\n",
       "      <th>iso3_o</th>\n",
       "      <th>iso3_d</th>\n",
       "      <th>contig</th>\n",
       "      <th>dist</th>\n",
       "      <th>comlang_off</th>\n",
       "      <th>gdp_o</th>\n",
       "      <th>gdp_d</th>\n",
       "      <th>rta</th>\n",
       "      <th>HHI_value</th>\n",
       "      <th>tr_flows</th>\n",
       "      <th>MS</th>\n",
       "    </tr>\n",
       "  </thead>\n",
       "  <tbody>\n",
       "  </tbody>\n",
       "</table>\n",
       "</div>"
      ],
      "text/plain": [
       "Empty DataFrame\n",
       "Columns: [year, iso3_o, iso3_d, contig, dist, comlang_off, gdp_o, gdp_d, rta, HHI_value, tr_flows, MS]\n",
       "Index: []"
      ]
     },
     "execution_count": 62,
     "metadata": {},
     "output_type": "execute_result"
    }
   ],
   "source": [
    "data[(data['iso3_o'] == 'DEU') & (data['iso3_d'] == 'USA')]"
   ]
  },
  {
   "cell_type": "code",
   "execution_count": 63,
   "metadata": {},
   "outputs": [],
   "source": [
    "data['dist'] = data['dist'].apply(lambda row: row.replace(',','.') if (',' in row) else row)\n",
    "data['gdp_o'] = data['gdp_o'].apply(lambda row: row.replace(',','.') if (',' in row) else row)\n",
    "data['gdp_d'] = data['gdp_d'].apply(lambda row: row.replace(',','.') if (',' in row) else row)\n",
    "data['HHI_value'] = data['HHI_value'].apply(lambda row: row.replace(',','.') if (',' in row) else row)\n",
    "data['MS'] = data['MS'].apply(lambda row: row.replace(',','.') if (',' in row) else row)\n",
    "data['tr_flows'] = data['tr_flows'].apply(lambda row: row.replace(',','.') if (',' in row) else row)"
   ]
  },
  {
   "cell_type": "code",
   "execution_count": 64,
   "metadata": {},
   "outputs": [],
   "source": [
    "data['dist'] = pd.to_numeric(data['dist'], downcast=\"float\")\n",
    "data['gdp_o'] = pd.to_numeric(data['gdp_o'], downcast=\"float\")\n",
    "data['gdp_d'] = pd.to_numeric(data['gdp_d'], downcast=\"float\")\n",
    "data['HHI_value'] = pd.to_numeric(data['HHI_value'], downcast=\"float\")\n",
    "data['MS'] = pd.to_numeric(data['MS'], downcast=\"float\")\n",
    "data['tr_flows'] = pd.to_numeric(data['tr_flows'], downcast=\"float\")"
   ]
  },
  {
   "cell_type": "code",
   "execution_count": 65,
   "metadata": {},
   "outputs": [
    {
     "name": "stdout",
     "output_type": "stream",
     "text": [
      "<class 'pandas.core.frame.DataFrame'>\n",
      "RangeIndex: 48505 entries, 0 to 48504\n",
      "Data columns (total 12 columns):\n",
      " #   Column       Non-Null Count  Dtype  \n",
      "---  ------       --------------  -----  \n",
      " 0   year         48505 non-null  int64  \n",
      " 1   iso3_o       48505 non-null  object \n",
      " 2   iso3_d       48505 non-null  object \n",
      " 3   contig       48505 non-null  int64  \n",
      " 4   dist         48505 non-null  float32\n",
      " 5   comlang_off  48505 non-null  int64  \n",
      " 6   gdp_o        48505 non-null  float32\n",
      " 7   gdp_d        48505 non-null  float32\n",
      " 8   rta          48505 non-null  int64  \n",
      " 9   HHI_value    48505 non-null  float32\n",
      " 10  tr_flows     48505 non-null  float32\n",
      " 11  MS           48505 non-null  float32\n",
      "dtypes: float32(6), int64(4), object(2)\n",
      "memory usage: 3.3+ MB\n"
     ]
    }
   ],
   "source": [
    "data.info()"
   ]
  },
  {
   "cell_type": "markdown",
   "metadata": {},
   "source": [
    "##  Regression (model 4)\n",
    "ln(trade flows) = ln(dist) + dummy_o + dummy_d + RTA + comlang_off+contig"
   ]
  },
  {
   "cell_type": "code",
   "execution_count": 66,
   "metadata": {},
   "outputs": [],
   "source": [
    "data_model_4 = data[['dist','tr_flows','rta','contig','comlang_off','iso3_o','iso3_d']]"
   ]
  },
  {
   "cell_type": "code",
   "execution_count": 67,
   "metadata": {},
   "outputs": [],
   "source": [
    "data_log = data_model_4[['rta','contig','comlang_off','iso3_o','iso3_d']]\n",
    "data_log['tr_flows_log'] = np.log(data_model_4['tr_flows'])\n",
    "data_log['dist_log'] = np.log(data_model_4['dist'])"
   ]
  },
  {
   "cell_type": "code",
   "execution_count": 68,
   "metadata": {},
   "outputs": [],
   "source": [
    "#numeric = ['tr_flows_log','dist_log']"
   ]
  },
  {
   "cell_type": "code",
   "execution_count": 69,
   "metadata": {},
   "outputs": [],
   "source": [
    "# scaler = StandardScaler()\n",
    "# scaler.fit(data_log[numeric])\n",
    "# data_log[numeric] = scaler.transform(data_log[numeric])"
   ]
  },
  {
   "cell_type": "code",
   "execution_count": 70,
   "metadata": {},
   "outputs": [],
   "source": [
    "data_log_transformed = pd.get_dummies(data_log, drop_first=True)"
   ]
  },
  {
   "cell_type": "code",
   "execution_count": 71,
   "metadata": {},
   "outputs": [],
   "source": [
    "features = data_log_transformed.drop(['tr_flows_log'], axis=1)\n",
    "target = data_log_transformed['tr_flows_log']"
   ]
  },
  {
   "cell_type": "code",
   "execution_count": 72,
   "metadata": {},
   "outputs": [],
   "source": [
    "features_train, features_valid, target_train, target_valid = train_test_split(\n",
    "    features, \n",
    "    target, \n",
    "    train_size=0.75, \n",
    "    test_size=0.25, \n",
    "    random_state=12345)"
   ]
  },
  {
   "cell_type": "code",
   "execution_count": 73,
   "metadata": {},
   "outputs": [
    {
     "name": "stdout",
     "output_type": "stream",
     "text": [
      "model MAE:  1.5659610731901614\n",
      "model RMSE:  4.373878214337316\n"
     ]
    }
   ],
   "source": [
    "model = LinearRegression()\n",
    "model.fit(features_train, target_train)\n",
    "predicted_valid = model.predict(features_valid)\n",
    "MAE = mean_absolute_error(target_valid,predicted_valid)\n",
    "RMSE = mean_squared_error(target_valid,predicted_valid)\n",
    "\n",
    "print('model MAE: ', MAE)\n",
    "print('model RMSE: ', RMSE)"
   ]
  },
  {
   "cell_type": "code",
   "execution_count": 74,
   "metadata": {},
   "outputs": [],
   "source": [
    "feature_names = [col for col in list(features.columns)]"
   ]
  },
  {
   "cell_type": "code",
   "execution_count": 75,
   "metadata": {},
   "outputs": [],
   "source": [
    "weights = eli5.explain_weights(model,top = 300, feature_names = feature_names, target_names = ['tr_flows_log'])"
   ]
  },
  {
   "cell_type": "code",
   "execution_count": 76,
   "metadata": {},
   "outputs": [],
   "source": [
    "weights = format_as_dataframe(weights)"
   ]
  },
  {
   "cell_type": "code",
   "execution_count": 77,
   "metadata": {},
   "outputs": [
    {
     "data": {
      "text/html": [
       "<div>\n",
       "<style scoped>\n",
       "    .dataframe tbody tr th:only-of-type {\n",
       "        vertical-align: middle;\n",
       "    }\n",
       "\n",
       "    .dataframe tbody tr th {\n",
       "        vertical-align: top;\n",
       "    }\n",
       "\n",
       "    .dataframe thead th {\n",
       "        text-align: right;\n",
       "    }\n",
       "</style>\n",
       "<table border=\"1\" class=\"dataframe\">\n",
       "  <thead>\n",
       "    <tr style=\"text-align: right;\">\n",
       "      <th></th>\n",
       "      <th>target</th>\n",
       "      <th>feature</th>\n",
       "      <th>weight</th>\n",
       "    </tr>\n",
       "  </thead>\n",
       "  <tbody>\n",
       "    <tr>\n",
       "      <th>0</th>\n",
       "      <td>tr_flows_log</td>\n",
       "      <td>&lt;BIAS&gt;</td>\n",
       "      <td>13.4</td>\n",
       "    </tr>\n",
       "    <tr>\n",
       "      <th>1</th>\n",
       "      <td>tr_flows_log</td>\n",
       "      <td>iso3_o_IND</td>\n",
       "      <td>11.8</td>\n",
       "    </tr>\n",
       "    <tr>\n",
       "      <th>2</th>\n",
       "      <td>tr_flows_log</td>\n",
       "      <td>iso3_o_USA</td>\n",
       "      <td>11.8</td>\n",
       "    </tr>\n",
       "    <tr>\n",
       "      <th>3</th>\n",
       "      <td>tr_flows_log</td>\n",
       "      <td>iso3_o_CHN</td>\n",
       "      <td>11.6</td>\n",
       "    </tr>\n",
       "    <tr>\n",
       "      <th>4</th>\n",
       "      <td>tr_flows_log</td>\n",
       "      <td>iso3_o_DEU</td>\n",
       "      <td>11.4</td>\n",
       "    </tr>\n",
       "    <tr>\n",
       "      <th>...</th>\n",
       "      <td>...</td>\n",
       "      <td>...</td>\n",
       "      <td>...</td>\n",
       "    </tr>\n",
       "    <tr>\n",
       "      <th>285</th>\n",
       "      <td>tr_flows_log</td>\n",
       "      <td>iso3_d_STP</td>\n",
       "      <td>-3.0</td>\n",
       "    </tr>\n",
       "    <tr>\n",
       "      <th>286</th>\n",
       "      <td>tr_flows_log</td>\n",
       "      <td>iso3_d_KNA</td>\n",
       "      <td>-3.4</td>\n",
       "    </tr>\n",
       "    <tr>\n",
       "      <th>287</th>\n",
       "      <td>tr_flows_log</td>\n",
       "      <td>iso3_d_FSM</td>\n",
       "      <td>-3.5</td>\n",
       "    </tr>\n",
       "    <tr>\n",
       "      <th>288</th>\n",
       "      <td>tr_flows_log</td>\n",
       "      <td>iso3_d_AND</td>\n",
       "      <td>-3.5</td>\n",
       "    </tr>\n",
       "    <tr>\n",
       "      <th>289</th>\n",
       "      <td>tr_flows_log</td>\n",
       "      <td>iso3_d_GRL</td>\n",
       "      <td>-5.3</td>\n",
       "    </tr>\n",
       "  </tbody>\n",
       "</table>\n",
       "<p>290 rows × 3 columns</p>\n",
       "</div>"
      ],
      "text/plain": [
       "           target     feature  weight\n",
       "0    tr_flows_log      <BIAS>    13.4\n",
       "1    tr_flows_log  iso3_o_IND    11.8\n",
       "2    tr_flows_log  iso3_o_USA    11.8\n",
       "3    tr_flows_log  iso3_o_CHN    11.6\n",
       "4    tr_flows_log  iso3_o_DEU    11.4\n",
       "..            ...         ...     ...\n",
       "285  tr_flows_log  iso3_d_STP    -3.0\n",
       "286  tr_flows_log  iso3_d_KNA    -3.4\n",
       "287  tr_flows_log  iso3_d_FSM    -3.5\n",
       "288  tr_flows_log  iso3_d_AND    -3.5\n",
       "289  tr_flows_log  iso3_d_GRL    -5.3\n",
       "\n",
       "[290 rows x 3 columns]"
      ]
     },
     "execution_count": 77,
     "metadata": {},
     "output_type": "execute_result"
    }
   ],
   "source": [
    "weights"
   ]
  },
  {
   "cell_type": "code",
   "execution_count": 78,
   "metadata": {},
   "outputs": [],
   "source": [
    "residual = (target_valid - predicted_valid)"
   ]
  },
  {
   "cell_type": "code",
   "execution_count": 79,
   "metadata": {},
   "outputs": [
    {
     "data": {
      "image/png": "[encoded data removed]",
      "text/plain": [
       "<Figure size 432x288 with 1 Axes>"
      ]
     },
     "metadata": {
      "needs_background": "light"
     },
     "output_type": "display_data"
    }
   ],
   "source": [
    "plt.scatter(target_valid, residual)\n",
    "plt.title('Independence')\n",
    "plt.xlabel('tr_flows')\n",
    "plt.ylabel('Residuals')\n",
    "plt.show()"
   ]
  },
  {
   "cell_type": "code",
   "execution_count": 80,
   "metadata": {},
   "outputs": [
    {
     "data": {
      "image/png": "[encoded data removed]",
      "text/plain": [
       "<Figure size 432x288 with 1 Axes>"
      ]
     },
     "metadata": {
      "needs_background": "light"
     },
     "output_type": "display_data"
    }
   ],
   "source": [
    "plt.hist(residual, bins =50)\n",
    "\n",
    "plt.show()"
   ]
  },
  {
   "cell_type": "markdown",
   "metadata": {},
   "source": [
    "## Regression (model augmented)\n",
    "1. ln(tr_flows_corrected) = ln(dist)+dummy_o + dummy_d + (-4)*RTA+(-4)*comlang_off+(-4)*contig, \n",
    "2. where ln(tr_flows_corrected) = ln(trade flows) +4 * MS * HHI"
   ]
  },
  {
   "cell_type": "code",
   "execution_count": 81,
   "metadata": {},
   "outputs": [
    {
     "data": {
      "text/html": [
       "<div>\n",
       "<style scoped>\n",
       "    .dataframe tbody tr th:only-of-type {\n",
       "        vertical-align: middle;\n",
       "    }\n",
       "\n",
       "    .dataframe tbody tr th {\n",
       "        vertical-align: top;\n",
       "    }\n",
       "\n",
       "    .dataframe thead th {\n",
       "        text-align: right;\n",
       "    }\n",
       "</style>\n",
       "<table border=\"1\" class=\"dataframe\">\n",
       "  <thead>\n",
       "    <tr style=\"text-align: right;\">\n",
       "      <th></th>\n",
       "      <th>year</th>\n",
       "      <th>contig</th>\n",
       "      <th>dist</th>\n",
       "      <th>comlang_off</th>\n",
       "      <th>gdp_o</th>\n",
       "      <th>gdp_d</th>\n",
       "      <th>rta</th>\n",
       "      <th>HHI_value</th>\n",
       "      <th>tr_flows</th>\n",
       "      <th>MS</th>\n",
       "    </tr>\n",
       "  </thead>\n",
       "  <tbody>\n",
       "    <tr>\n",
       "      <th>count</th>\n",
       "      <td>48,505.0</td>\n",
       "      <td>48,505.0</td>\n",
       "      <td>48,505.0</td>\n",
       "      <td>48,505.0</td>\n",
       "      <td>48,505.0</td>\n",
       "      <td>48,505.0</td>\n",
       "      <td>48,505.0</td>\n",
       "      <td>48,505.0</td>\n",
       "      <td>48,505.0</td>\n",
       "      <td>48,505.0</td>\n",
       "    </tr>\n",
       "    <tr>\n",
       "      <th>mean</th>\n",
       "      <td>2,011.0</td>\n",
       "      <td>0.0</td>\n",
       "      <td>6,782.3</td>\n",
       "      <td>0.2</td>\n",
       "      <td>1,042,675,520.0</td>\n",
       "      <td>542,900,096.0</td>\n",
       "      <td>0.3</td>\n",
       "      <td>0.1</td>\n",
       "      <td>3,388,584.8</td>\n",
       "      <td>0.0</td>\n",
       "    </tr>\n",
       "    <tr>\n",
       "      <th>std</th>\n",
       "      <td>2.5</td>\n",
       "      <td>0.2</td>\n",
       "      <td>4,540.5</td>\n",
       "      <td>0.4</td>\n",
       "      <td>2,307,732,480.0</td>\n",
       "      <td>1,726,341,632.0</td>\n",
       "      <td>0.5</td>\n",
       "      <td>0.1</td>\n",
       "      <td>5,848,244.0</td>\n",
       "      <td>0.0</td>\n",
       "    </tr>\n",
       "    <tr>\n",
       "      <th>min</th>\n",
       "      <td>2,007.0</td>\n",
       "      <td>0.0</td>\n",
       "      <td>59.6</td>\n",
       "      <td>0.0</td>\n",
       "      <td>318,522.3</td>\n",
       "      <td>123,005.1</td>\n",
       "      <td>0.0</td>\n",
       "      <td>0.0</td>\n",
       "      <td>1.0</td>\n",
       "      <td>0.0</td>\n",
       "    </tr>\n",
       "    <tr>\n",
       "      <th>25%</th>\n",
       "      <td>2,009.0</td>\n",
       "      <td>0.0</td>\n",
       "      <td>2,742.3</td>\n",
       "      <td>0.0</td>\n",
       "      <td>97,525,384.0</td>\n",
       "      <td>14,440,676.0</td>\n",
       "      <td>0.0</td>\n",
       "      <td>0.1</td>\n",
       "      <td>69,888.0</td>\n",
       "      <td>0.0</td>\n",
       "    </tr>\n",
       "    <tr>\n",
       "      <th>50%</th>\n",
       "      <td>2,011.0</td>\n",
       "      <td>0.0</td>\n",
       "      <td>6,446.8</td>\n",
       "      <td>0.0</td>\n",
       "      <td>289,548,384.0</td>\n",
       "      <td>55,348,000.0</td>\n",
       "      <td>0.0</td>\n",
       "      <td>0.1</td>\n",
       "      <td>608,933.0</td>\n",
       "      <td>0.0</td>\n",
       "    </tr>\n",
       "    <tr>\n",
       "      <th>75%</th>\n",
       "      <td>2,013.0</td>\n",
       "      <td>0.0</td>\n",
       "      <td>9,657.0</td>\n",
       "      <td>0.0</td>\n",
       "      <td>926,283,264.0</td>\n",
       "      <td>318,907,936.0</td>\n",
       "      <td>1.0</td>\n",
       "      <td>0.1</td>\n",
       "      <td>3,755,956.0</td>\n",
       "      <td>0.0</td>\n",
       "    </tr>\n",
       "    <tr>\n",
       "      <th>max</th>\n",
       "      <td>2,015.0</td>\n",
       "      <td>1.0</td>\n",
       "      <td>19,812.0</td>\n",
       "      <td>1.0</td>\n",
       "      <td>18,036,647,936.0</td>\n",
       "      <td>18,036,647,936.0</td>\n",
       "      <td>1.0</td>\n",
       "      <td>0.9</td>\n",
       "      <td>28,720,544.0</td>\n",
       "      <td>1.0</td>\n",
       "    </tr>\n",
       "  </tbody>\n",
       "</table>\n",
       "</div>"
      ],
      "text/plain": [
       "          year   contig     dist  comlang_off            gdp_o  \\\n",
       "count 48,505.0 48,505.0 48,505.0     48,505.0         48,505.0   \n",
       "mean   2,011.0      0.0  6,782.3          0.2  1,042,675,520.0   \n",
       "std        2.5      0.2  4,540.5          0.4  2,307,732,480.0   \n",
       "min    2,007.0      0.0     59.6          0.0        318,522.3   \n",
       "25%    2,009.0      0.0  2,742.3          0.0     97,525,384.0   \n",
       "50%    2,011.0      0.0  6,446.8          0.0    289,548,384.0   \n",
       "75%    2,013.0      0.0  9,657.0          0.0    926,283,264.0   \n",
       "max    2,015.0      1.0 19,812.0          1.0 18,036,647,936.0   \n",
       "\n",
       "                 gdp_d      rta  HHI_value     tr_flows       MS  \n",
       "count         48,505.0 48,505.0   48,505.0     48,505.0 48,505.0  \n",
       "mean     542,900,096.0      0.3        0.1  3,388,584.8      0.0  \n",
       "std    1,726,341,632.0      0.5        0.1  5,848,244.0      0.0  \n",
       "min          123,005.1      0.0        0.0          1.0      0.0  \n",
       "25%       14,440,676.0      0.0        0.1     69,888.0      0.0  \n",
       "50%       55,348,000.0      0.0        0.1    608,933.0      0.0  \n",
       "75%      318,907,936.0      1.0        0.1  3,755,956.0      0.0  \n",
       "max   18,036,647,936.0      1.0        0.9 28,720,544.0      1.0  "
      ]
     },
     "execution_count": 81,
     "metadata": {},
     "output_type": "execute_result"
    }
   ],
   "source": [
    "data.describe()"
   ]
  },
  {
   "cell_type": "code",
   "execution_count": 82,
   "metadata": {},
   "outputs": [],
   "source": [
    "data_model_augmented = data[['dist','tr_flows','rta','contig','comlang_off','iso3_o','iso3_d','HHI_value','MS']]"
   ]
  },
  {
   "cell_type": "code",
   "execution_count": 83,
   "metadata": {},
   "outputs": [],
   "source": [
    "data_log = data_model_augmented[['iso3_o','iso3_d']]\n",
    "data_log['correction_term'] = 4 * data_model_augmented['MS'] * data_model_augmented['HHI_value']\n",
    "data_log['tr_flows_corrected'] = np.log(data_model_augmented['tr_flows']) + 4 * data_model_augmented['MS'] * data_model_augmented['HHI_value']\n",
    "data_log['dist_log'] = np.log(data_model_augmented['dist'])\n",
    "data_log['4_rta'] = data_model_augmented['rta'] * -4\n",
    "data_log['4_comlang_off'] = data_model_augmented['comlang_off'] * -4\n",
    "data_log['4_contig'] = data_model_augmented['contig'] * -4"
   ]
  },
  {
   "cell_type": "code",
   "execution_count": 84,
   "metadata": {},
   "outputs": [
    {
     "data": {
      "text/html": [
       "<div>\n",
       "<style scoped>\n",
       "    .dataframe tbody tr th:only-of-type {\n",
       "        vertical-align: middle;\n",
       "    }\n",
       "\n",
       "    .dataframe tbody tr th {\n",
       "        vertical-align: top;\n",
       "    }\n",
       "\n",
       "    .dataframe thead th {\n",
       "        text-align: right;\n",
       "    }\n",
       "</style>\n",
       "<table border=\"1\" class=\"dataframe\">\n",
       "  <thead>\n",
       "    <tr style=\"text-align: right;\">\n",
       "      <th></th>\n",
       "      <th>iso3_o</th>\n",
       "      <th>iso3_d</th>\n",
       "      <th>correction_term</th>\n",
       "      <th>tr_flows_corrected</th>\n",
       "      <th>dist_log</th>\n",
       "      <th>4_rta</th>\n",
       "      <th>4_comlang_off</th>\n",
       "      <th>4_contig</th>\n",
       "    </tr>\n",
       "  </thead>\n",
       "  <tbody>\n",
       "    <tr>\n",
       "      <th>0</th>\n",
       "      <td>ALB</td>\n",
       "      <td>AUT</td>\n",
       "      <td>0.0</td>\n",
       "      <td>10.6</td>\n",
       "      <td>6.7</td>\n",
       "      <td>-4</td>\n",
       "      <td>0</td>\n",
       "      <td>0</td>\n",
       "    </tr>\n",
       "    <tr>\n",
       "      <th>1</th>\n",
       "      <td>ALB</td>\n",
       "      <td>DEU</td>\n",
       "      <td>0.0</td>\n",
       "      <td>6.9</td>\n",
       "      <td>7.3</td>\n",
       "      <td>-4</td>\n",
       "      <td>0</td>\n",
       "      <td>0</td>\n",
       "    </tr>\n",
       "    <tr>\n",
       "      <th>2</th>\n",
       "      <td>ALB</td>\n",
       "      <td>GRC</td>\n",
       "      <td>0.0</td>\n",
       "      <td>9.4</td>\n",
       "      <td>6.2</td>\n",
       "      <td>-4</td>\n",
       "      <td>0</td>\n",
       "      <td>-4</td>\n",
       "    </tr>\n",
       "    <tr>\n",
       "      <th>3</th>\n",
       "      <td>ALB</td>\n",
       "      <td>ITA</td>\n",
       "      <td>0.0</td>\n",
       "      <td>9.0</td>\n",
       "      <td>6.4</td>\n",
       "      <td>-4</td>\n",
       "      <td>0</td>\n",
       "      <td>0</td>\n",
       "    </tr>\n",
       "    <tr>\n",
       "      <th>4</th>\n",
       "      <td>DZA</td>\n",
       "      <td>CAN</td>\n",
       "      <td>0.0</td>\n",
       "      <td>7.5</td>\n",
       "      <td>8.8</td>\n",
       "      <td>0</td>\n",
       "      <td>-4</td>\n",
       "      <td>0</td>\n",
       "    </tr>\n",
       "    <tr>\n",
       "      <th>...</th>\n",
       "      <td>...</td>\n",
       "      <td>...</td>\n",
       "      <td>...</td>\n",
       "      <td>...</td>\n",
       "      <td>...</td>\n",
       "      <td>...</td>\n",
       "      <td>...</td>\n",
       "      <td>...</td>\n",
       "    </tr>\n",
       "    <tr>\n",
       "      <th>48500</th>\n",
       "      <td>ZMB</td>\n",
       "      <td>BWA</td>\n",
       "      <td>0.0</td>\n",
       "      <td>9.9</td>\n",
       "      <td>7.0</td>\n",
       "      <td>-4</td>\n",
       "      <td>-4</td>\n",
       "      <td>-4</td>\n",
       "    </tr>\n",
       "    <tr>\n",
       "      <th>48501</th>\n",
       "      <td>ZMB</td>\n",
       "      <td>MWI</td>\n",
       "      <td>0.0</td>\n",
       "      <td>10.9</td>\n",
       "      <td>6.4</td>\n",
       "      <td>-4</td>\n",
       "      <td>-4</td>\n",
       "      <td>-4</td>\n",
       "    </tr>\n",
       "    <tr>\n",
       "      <th>48502</th>\n",
       "      <td>ZMB</td>\n",
       "      <td>NAM</td>\n",
       "      <td>0.0</td>\n",
       "      <td>8.4</td>\n",
       "      <td>7.3</td>\n",
       "      <td>-4</td>\n",
       "      <td>-4</td>\n",
       "      <td>-4</td>\n",
       "    </tr>\n",
       "    <tr>\n",
       "      <th>48503</th>\n",
       "      <td>ZMB</td>\n",
       "      <td>ZAF</td>\n",
       "      <td>0.0</td>\n",
       "      <td>10.8</td>\n",
       "      <td>7.7</td>\n",
       "      <td>-4</td>\n",
       "      <td>-4</td>\n",
       "      <td>0</td>\n",
       "    </tr>\n",
       "    <tr>\n",
       "      <th>48504</th>\n",
       "      <td>ZMB</td>\n",
       "      <td>ZWE</td>\n",
       "      <td>0.0</td>\n",
       "      <td>11.7</td>\n",
       "      <td>6.0</td>\n",
       "      <td>-4</td>\n",
       "      <td>-4</td>\n",
       "      <td>-4</td>\n",
       "    </tr>\n",
       "  </tbody>\n",
       "</table>\n",
       "<p>48505 rows × 8 columns</p>\n",
       "</div>"
      ],
      "text/plain": [
       "      iso3_o iso3_d  correction_term  tr_flows_corrected  dist_log  4_rta  \\\n",
       "0        ALB    AUT              0.0                10.6       6.7     -4   \n",
       "1        ALB    DEU              0.0                 6.9       7.3     -4   \n",
       "2        ALB    GRC              0.0                 9.4       6.2     -4   \n",
       "3        ALB    ITA              0.0                 9.0       6.4     -4   \n",
       "4        DZA    CAN              0.0                 7.5       8.8      0   \n",
       "...      ...    ...              ...                 ...       ...    ...   \n",
       "48500    ZMB    BWA              0.0                 9.9       7.0     -4   \n",
       "48501    ZMB    MWI              0.0                10.9       6.4     -4   \n",
       "48502    ZMB    NAM              0.0                 8.4       7.3     -4   \n",
       "48503    ZMB    ZAF              0.0                10.8       7.7     -4   \n",
       "48504    ZMB    ZWE              0.0                11.7       6.0     -4   \n",
       "\n",
       "       4_comlang_off  4_contig  \n",
       "0                  0         0  \n",
       "1                  0         0  \n",
       "2                  0        -4  \n",
       "3                  0         0  \n",
       "4                 -4         0  \n",
       "...              ...       ...  \n",
       "48500             -4        -4  \n",
       "48501             -4        -4  \n",
       "48502             -4        -4  \n",
       "48503             -4         0  \n",
       "48504             -4        -4  \n",
       "\n",
       "[48505 rows x 8 columns]"
      ]
     },
     "execution_count": 84,
     "metadata": {},
     "output_type": "execute_result"
    }
   ],
   "source": [
    "data_log"
   ]
  },
  {
   "cell_type": "code",
   "execution_count": 85,
   "metadata": {},
   "outputs": [],
   "source": [
    "#numeric = ['tr_flows_corrected','dist_log']"
   ]
  },
  {
   "cell_type": "code",
   "execution_count": 86,
   "metadata": {},
   "outputs": [],
   "source": [
    "# scaler = StandardScaler()\n",
    "# scaler.fit(data_log[numeric])\n",
    "# data_log[numeric] = scaler.transform(data_log[numeric])"
   ]
  },
  {
   "cell_type": "code",
   "execution_count": 87,
   "metadata": {},
   "outputs": [],
   "source": [
    "data_log_transformed = pd.get_dummies(data_log, drop_first=True)"
   ]
  },
  {
   "cell_type": "code",
   "execution_count": 88,
   "metadata": {},
   "outputs": [],
   "source": [
    "features = data_log_transformed.drop(['tr_flows_corrected'], axis=1)\n",
    "target = data_log_transformed['tr_flows_corrected']"
   ]
  },
  {
   "cell_type": "code",
   "execution_count": 89,
   "metadata": {},
   "outputs": [],
   "source": [
    "features_train, features_valid, target_train, target_valid = train_test_split(\n",
    "    features, \n",
    "    target, \n",
    "    train_size=0.75, \n",
    "    test_size=0.25, \n",
    "    random_state=12345)"
   ]
  },
  {
   "cell_type": "code",
   "execution_count": 90,
   "metadata": {},
   "outputs": [
    {
     "data": {
      "text/html": [
       "<div>\n",
       "<style scoped>\n",
       "    .dataframe tbody tr th:only-of-type {\n",
       "        vertical-align: middle;\n",
       "    }\n",
       "\n",
       "    .dataframe tbody tr th {\n",
       "        vertical-align: top;\n",
       "    }\n",
       "\n",
       "    .dataframe thead th {\n",
       "        text-align: right;\n",
       "    }\n",
       "</style>\n",
       "<table border=\"1\" class=\"dataframe\">\n",
       "  <thead>\n",
       "    <tr style=\"text-align: right;\">\n",
       "      <th></th>\n",
       "      <th>dist_log</th>\n",
       "      <th>4_rta</th>\n",
       "      <th>4_comlang_off</th>\n",
       "      <th>4_contig</th>\n",
       "      <th>iso3_o_ALB</th>\n",
       "      <th>iso3_o_AND</th>\n",
       "      <th>iso3_o_ARE</th>\n",
       "      <th>iso3_o_ARG</th>\n",
       "      <th>iso3_o_ARM</th>\n",
       "      <th>iso3_o_ATG</th>\n",
       "      <th>...</th>\n",
       "      <th>iso3_d_URY</th>\n",
       "      <th>iso3_d_USA</th>\n",
       "      <th>iso3_d_VCT</th>\n",
       "      <th>iso3_d_VEN</th>\n",
       "      <th>iso3_d_VNM</th>\n",
       "      <th>iso3_d_WSM</th>\n",
       "      <th>iso3_d_YEM</th>\n",
       "      <th>iso3_d_ZAF</th>\n",
       "      <th>iso3_d_ZMB</th>\n",
       "      <th>iso3_d_ZWE</th>\n",
       "    </tr>\n",
       "  </thead>\n",
       "  <tbody>\n",
       "    <tr>\n",
       "      <th>43414</th>\n",
       "      <td>8.0</td>\n",
       "      <td>-4</td>\n",
       "      <td>-4</td>\n",
       "      <td>0</td>\n",
       "      <td>0</td>\n",
       "      <td>0</td>\n",
       "      <td>0</td>\n",
       "      <td>0</td>\n",
       "      <td>0</td>\n",
       "      <td>0</td>\n",
       "      <td>...</td>\n",
       "      <td>0</td>\n",
       "      <td>0</td>\n",
       "      <td>0</td>\n",
       "      <td>0</td>\n",
       "      <td>0</td>\n",
       "      <td>0</td>\n",
       "      <td>0</td>\n",
       "      <td>0</td>\n",
       "      <td>0</td>\n",
       "      <td>0</td>\n",
       "    </tr>\n",
       "    <tr>\n",
       "      <th>40284</th>\n",
       "      <td>8.3</td>\n",
       "      <td>0</td>\n",
       "      <td>0</td>\n",
       "      <td>0</td>\n",
       "      <td>0</td>\n",
       "      <td>0</td>\n",
       "      <td>0</td>\n",
       "      <td>0</td>\n",
       "      <td>0</td>\n",
       "      <td>0</td>\n",
       "      <td>...</td>\n",
       "      <td>0</td>\n",
       "      <td>0</td>\n",
       "      <td>0</td>\n",
       "      <td>0</td>\n",
       "      <td>0</td>\n",
       "      <td>0</td>\n",
       "      <td>0</td>\n",
       "      <td>0</td>\n",
       "      <td>0</td>\n",
       "      <td>0</td>\n",
       "    </tr>\n",
       "    <tr>\n",
       "      <th>18642</th>\n",
       "      <td>9.1</td>\n",
       "      <td>-4</td>\n",
       "      <td>0</td>\n",
       "      <td>0</td>\n",
       "      <td>0</td>\n",
       "      <td>0</td>\n",
       "      <td>0</td>\n",
       "      <td>0</td>\n",
       "      <td>0</td>\n",
       "      <td>0</td>\n",
       "      <td>...</td>\n",
       "      <td>0</td>\n",
       "      <td>0</td>\n",
       "      <td>0</td>\n",
       "      <td>0</td>\n",
       "      <td>0</td>\n",
       "      <td>0</td>\n",
       "      <td>0</td>\n",
       "      <td>0</td>\n",
       "      <td>0</td>\n",
       "      <td>0</td>\n",
       "    </tr>\n",
       "    <tr>\n",
       "      <th>21913</th>\n",
       "      <td>8.4</td>\n",
       "      <td>0</td>\n",
       "      <td>0</td>\n",
       "      <td>0</td>\n",
       "      <td>0</td>\n",
       "      <td>0</td>\n",
       "      <td>0</td>\n",
       "      <td>0</td>\n",
       "      <td>0</td>\n",
       "      <td>0</td>\n",
       "      <td>...</td>\n",
       "      <td>0</td>\n",
       "      <td>0</td>\n",
       "      <td>0</td>\n",
       "      <td>0</td>\n",
       "      <td>0</td>\n",
       "      <td>0</td>\n",
       "      <td>0</td>\n",
       "      <td>0</td>\n",
       "      <td>0</td>\n",
       "      <td>0</td>\n",
       "    </tr>\n",
       "    <tr>\n",
       "      <th>15366</th>\n",
       "      <td>7.0</td>\n",
       "      <td>0</td>\n",
       "      <td>0</td>\n",
       "      <td>0</td>\n",
       "      <td>0</td>\n",
       "      <td>0</td>\n",
       "      <td>0</td>\n",
       "      <td>0</td>\n",
       "      <td>0</td>\n",
       "      <td>0</td>\n",
       "      <td>...</td>\n",
       "      <td>0</td>\n",
       "      <td>0</td>\n",
       "      <td>0</td>\n",
       "      <td>0</td>\n",
       "      <td>0</td>\n",
       "      <td>0</td>\n",
       "      <td>0</td>\n",
       "      <td>0</td>\n",
       "      <td>0</td>\n",
       "      <td>0</td>\n",
       "    </tr>\n",
       "    <tr>\n",
       "      <th>...</th>\n",
       "      <td>...</td>\n",
       "      <td>...</td>\n",
       "      <td>...</td>\n",
       "      <td>...</td>\n",
       "      <td>...</td>\n",
       "      <td>...</td>\n",
       "      <td>...</td>\n",
       "      <td>...</td>\n",
       "      <td>...</td>\n",
       "      <td>...</td>\n",
       "      <td>...</td>\n",
       "      <td>...</td>\n",
       "      <td>...</td>\n",
       "      <td>...</td>\n",
       "      <td>...</td>\n",
       "      <td>...</td>\n",
       "      <td>...</td>\n",
       "      <td>...</td>\n",
       "      <td>...</td>\n",
       "      <td>...</td>\n",
       "      <td>...</td>\n",
       "    </tr>\n",
       "    <tr>\n",
       "      <th>27530</th>\n",
       "      <td>9.8</td>\n",
       "      <td>0</td>\n",
       "      <td>-4</td>\n",
       "      <td>0</td>\n",
       "      <td>0</td>\n",
       "      <td>0</td>\n",
       "      <td>0</td>\n",
       "      <td>0</td>\n",
       "      <td>0</td>\n",
       "      <td>0</td>\n",
       "      <td>...</td>\n",
       "      <td>0</td>\n",
       "      <td>0</td>\n",
       "      <td>0</td>\n",
       "      <td>0</td>\n",
       "      <td>0</td>\n",
       "      <td>0</td>\n",
       "      <td>0</td>\n",
       "      <td>0</td>\n",
       "      <td>0</td>\n",
       "      <td>0</td>\n",
       "    </tr>\n",
       "    <tr>\n",
       "      <th>33182</th>\n",
       "      <td>7.6</td>\n",
       "      <td>-4</td>\n",
       "      <td>0</td>\n",
       "      <td>0</td>\n",
       "      <td>0</td>\n",
       "      <td>0</td>\n",
       "      <td>0</td>\n",
       "      <td>0</td>\n",
       "      <td>0</td>\n",
       "      <td>0</td>\n",
       "      <td>...</td>\n",
       "      <td>0</td>\n",
       "      <td>0</td>\n",
       "      <td>0</td>\n",
       "      <td>0</td>\n",
       "      <td>0</td>\n",
       "      <td>0</td>\n",
       "      <td>0</td>\n",
       "      <td>0</td>\n",
       "      <td>0</td>\n",
       "      <td>0</td>\n",
       "    </tr>\n",
       "    <tr>\n",
       "      <th>39305</th>\n",
       "      <td>8.4</td>\n",
       "      <td>0</td>\n",
       "      <td>0</td>\n",
       "      <td>0</td>\n",
       "      <td>0</td>\n",
       "      <td>0</td>\n",
       "      <td>0</td>\n",
       "      <td>0</td>\n",
       "      <td>0</td>\n",
       "      <td>0</td>\n",
       "      <td>...</td>\n",
       "      <td>0</td>\n",
       "      <td>0</td>\n",
       "      <td>0</td>\n",
       "      <td>0</td>\n",
       "      <td>0</td>\n",
       "      <td>0</td>\n",
       "      <td>0</td>\n",
       "      <td>0</td>\n",
       "      <td>0</td>\n",
       "      <td>0</td>\n",
       "    </tr>\n",
       "    <tr>\n",
       "      <th>17419</th>\n",
       "      <td>8.0</td>\n",
       "      <td>-4</td>\n",
       "      <td>0</td>\n",
       "      <td>0</td>\n",
       "      <td>0</td>\n",
       "      <td>0</td>\n",
       "      <td>0</td>\n",
       "      <td>0</td>\n",
       "      <td>0</td>\n",
       "      <td>0</td>\n",
       "      <td>...</td>\n",
       "      <td>0</td>\n",
       "      <td>0</td>\n",
       "      <td>0</td>\n",
       "      <td>0</td>\n",
       "      <td>0</td>\n",
       "      <td>0</td>\n",
       "      <td>0</td>\n",
       "      <td>0</td>\n",
       "      <td>0</td>\n",
       "      <td>0</td>\n",
       "    </tr>\n",
       "    <tr>\n",
       "      <th>33985</th>\n",
       "      <td>8.2</td>\n",
       "      <td>0</td>\n",
       "      <td>-4</td>\n",
       "      <td>0</td>\n",
       "      <td>0</td>\n",
       "      <td>0</td>\n",
       "      <td>0</td>\n",
       "      <td>0</td>\n",
       "      <td>0</td>\n",
       "      <td>0</td>\n",
       "      <td>...</td>\n",
       "      <td>0</td>\n",
       "      <td>0</td>\n",
       "      <td>0</td>\n",
       "      <td>0</td>\n",
       "      <td>0</td>\n",
       "      <td>0</td>\n",
       "      <td>0</td>\n",
       "      <td>0</td>\n",
       "      <td>0</td>\n",
       "      <td>0</td>\n",
       "    </tr>\n",
       "  </tbody>\n",
       "</table>\n",
       "<p>12127 rows × 289 columns</p>\n",
       "</div>"
      ],
      "text/plain": [
       "       dist_log  4_rta  4_comlang_off  4_contig  iso3_o_ALB  iso3_o_AND  \\\n",
       "43414       8.0     -4             -4         0           0           0   \n",
       "40284       8.3      0              0         0           0           0   \n",
       "18642       9.1     -4              0         0           0           0   \n",
       "21913       8.4      0              0         0           0           0   \n",
       "15366       7.0      0              0         0           0           0   \n",
       "...         ...    ...            ...       ...         ...         ...   \n",
       "27530       9.8      0             -4         0           0           0   \n",
       "33182       7.6     -4              0         0           0           0   \n",
       "39305       8.4      0              0         0           0           0   \n",
       "17419       8.0     -4              0         0           0           0   \n",
       "33985       8.2      0             -4         0           0           0   \n",
       "\n",
       "       iso3_o_ARE  iso3_o_ARG  iso3_o_ARM  iso3_o_ATG  ...  iso3_d_URY  \\\n",
       "43414           0           0           0           0  ...           0   \n",
       "40284           0           0           0           0  ...           0   \n",
       "18642           0           0           0           0  ...           0   \n",
       "21913           0           0           0           0  ...           0   \n",
       "15366           0           0           0           0  ...           0   \n",
       "...           ...         ...         ...         ...  ...         ...   \n",
       "27530           0           0           0           0  ...           0   \n",
       "33182           0           0           0           0  ...           0   \n",
       "39305           0           0           0           0  ...           0   \n",
       "17419           0           0           0           0  ...           0   \n",
       "33985           0           0           0           0  ...           0   \n",
       "\n",
       "       iso3_d_USA  iso3_d_VCT  iso3_d_VEN  iso3_d_VNM  iso3_d_WSM  iso3_d_YEM  \\\n",
       "43414           0           0           0           0           0           0   \n",
       "40284           0           0           0           0           0           0   \n",
       "18642           0           0           0           0           0           0   \n",
       "21913           0           0           0           0           0           0   \n",
       "15366           0           0           0           0           0           0   \n",
       "...           ...         ...         ...         ...         ...         ...   \n",
       "27530           0           0           0           0           0           0   \n",
       "33182           0           0           0           0           0           0   \n",
       "39305           0           0           0           0           0           0   \n",
       "17419           0           0           0           0           0           0   \n",
       "33985           0           0           0           0           0           0   \n",
       "\n",
       "       iso3_d_ZAF  iso3_d_ZMB  iso3_d_ZWE  \n",
       "43414           0           0           0  \n",
       "40284           0           0           0  \n",
       "18642           0           0           0  \n",
       "21913           0           0           0  \n",
       "15366           0           0           0  \n",
       "...           ...         ...         ...  \n",
       "27530           0           0           0  \n",
       "33182           0           0           0  \n",
       "39305           0           0           0  \n",
       "17419           0           0           0  \n",
       "33985           0           0           0  \n",
       "\n",
       "[12127 rows x 289 columns]"
      ]
     },
     "execution_count": 90,
     "metadata": {},
     "output_type": "execute_result"
    }
   ],
   "source": [
    "features_train.drop(['correction_term'], axis=1)\n",
    "correction_term = features_valid['correction_term']\n",
    "features_valid.drop(['correction_term'], axis=1)"
   ]
  },
  {
   "cell_type": "code",
   "execution_count": 91,
   "metadata": {},
   "outputs": [
    {
     "name": "stdout",
     "output_type": "stream",
     "text": [
      "model MAE:  1.5160499034943582\n",
      "model RMSE:  4.1754485870958025\n"
     ]
    }
   ],
   "source": [
    "model = LinearRegression()\n",
    "model.fit(features_train, target_train)\n",
    "predicted_valid = model.predict(features_valid)\n",
    "MAE = mean_absolute_error(target_valid,predicted_valid)\n",
    "RMSE = mean_squared_error(target_valid,predicted_valid)\n",
    "\n",
    "print('model MAE: ', MAE)\n",
    "print('model RMSE: ', RMSE)"
   ]
  },
  {
   "cell_type": "code",
   "execution_count": 92,
   "metadata": {},
   "outputs": [],
   "source": [
    "feature_names = [col for col in list(features.columns)]"
   ]
  },
  {
   "cell_type": "code",
   "execution_count": 93,
   "metadata": {},
   "outputs": [],
   "source": [
    "weights = eli5.explain_weights(model,top = 300, feature_names = feature_names, target_names = ['tr_flows_corrected'])"
   ]
  },
  {
   "cell_type": "code",
   "execution_count": 94,
   "metadata": {},
   "outputs": [],
   "source": [
    "weights = format_as_dataframe(weights)"
   ]
  },
  {
   "cell_type": "code",
   "execution_count": 95,
   "metadata": {},
   "outputs": [
    {
     "data": {
      "text/html": [
       "<div>\n",
       "<style scoped>\n",
       "    .dataframe tbody tr th:only-of-type {\n",
       "        vertical-align: middle;\n",
       "    }\n",
       "\n",
       "    .dataframe tbody tr th {\n",
       "        vertical-align: top;\n",
       "    }\n",
       "\n",
       "    .dataframe thead th {\n",
       "        text-align: right;\n",
       "    }\n",
       "</style>\n",
       "<table border=\"1\" class=\"dataframe\">\n",
       "  <thead>\n",
       "    <tr style=\"text-align: right;\">\n",
       "      <th></th>\n",
       "      <th>target</th>\n",
       "      <th>feature</th>\n",
       "      <th>weight</th>\n",
       "    </tr>\n",
       "  </thead>\n",
       "  <tbody>\n",
       "    <tr>\n",
       "      <th>0</th>\n",
       "      <td>tr_flows_corrected</td>\n",
       "      <td>correction_term</td>\n",
       "      <td>37.0</td>\n",
       "    </tr>\n",
       "    <tr>\n",
       "      <th>1</th>\n",
       "      <td>tr_flows_corrected</td>\n",
       "      <td>&lt;BIAS&gt;</td>\n",
       "      <td>12.2</td>\n",
       "    </tr>\n",
       "    <tr>\n",
       "      <th>2</th>\n",
       "      <td>tr_flows_corrected</td>\n",
       "      <td>iso3_o_IND</td>\n",
       "      <td>11.4</td>\n",
       "    </tr>\n",
       "    <tr>\n",
       "      <th>3</th>\n",
       "      <td>tr_flows_corrected</td>\n",
       "      <td>iso3_o_USA</td>\n",
       "      <td>11.3</td>\n",
       "    </tr>\n",
       "    <tr>\n",
       "      <th>4</th>\n",
       "      <td>tr_flows_corrected</td>\n",
       "      <td>iso3_o_CHN</td>\n",
       "      <td>11.2</td>\n",
       "    </tr>\n",
       "    <tr>\n",
       "      <th>...</th>\n",
       "      <td>...</td>\n",
       "      <td>...</td>\n",
       "      <td>...</td>\n",
       "    </tr>\n",
       "    <tr>\n",
       "      <th>286</th>\n",
       "      <td>tr_flows_corrected</td>\n",
       "      <td>iso3_d_KNA</td>\n",
       "      <td>-3.5</td>\n",
       "    </tr>\n",
       "    <tr>\n",
       "      <th>287</th>\n",
       "      <td>tr_flows_corrected</td>\n",
       "      <td>iso3_d_AND</td>\n",
       "      <td>-3.5</td>\n",
       "    </tr>\n",
       "    <tr>\n",
       "      <th>288</th>\n",
       "      <td>tr_flows_corrected</td>\n",
       "      <td>iso3_d_KIR</td>\n",
       "      <td>-3.8</td>\n",
       "    </tr>\n",
       "    <tr>\n",
       "      <th>289</th>\n",
       "      <td>tr_flows_corrected</td>\n",
       "      <td>iso3_d_STP</td>\n",
       "      <td>-4.3</td>\n",
       "    </tr>\n",
       "    <tr>\n",
       "      <th>290</th>\n",
       "      <td>tr_flows_corrected</td>\n",
       "      <td>iso3_d_GRL</td>\n",
       "      <td>-5.5</td>\n",
       "    </tr>\n",
       "  </tbody>\n",
       "</table>\n",
       "<p>291 rows × 3 columns</p>\n",
       "</div>"
      ],
      "text/plain": [
       "                 target          feature  weight\n",
       "0    tr_flows_corrected  correction_term    37.0\n",
       "1    tr_flows_corrected           <BIAS>    12.2\n",
       "2    tr_flows_corrected       iso3_o_IND    11.4\n",
       "3    tr_flows_corrected       iso3_o_USA    11.3\n",
       "4    tr_flows_corrected       iso3_o_CHN    11.2\n",
       "..                  ...              ...     ...\n",
       "286  tr_flows_corrected       iso3_d_KNA    -3.5\n",
       "287  tr_flows_corrected       iso3_d_AND    -3.5\n",
       "288  tr_flows_corrected       iso3_d_KIR    -3.8\n",
       "289  tr_flows_corrected       iso3_d_STP    -4.3\n",
       "290  tr_flows_corrected       iso3_d_GRL    -5.5\n",
       "\n",
       "[291 rows x 3 columns]"
      ]
     },
     "execution_count": 95,
     "metadata": {},
     "output_type": "execute_result"
    }
   ],
   "source": [
    "weights"
   ]
  },
  {
   "cell_type": "code",
   "execution_count": 96,
   "metadata": {},
   "outputs": [],
   "source": [
    "residual = (target_valid - predicted_valid)"
   ]
  },
  {
   "cell_type": "code",
   "execution_count": 97,
   "metadata": {},
   "outputs": [
    {
     "data": {
      "image/png": "[encoded data removed]",
      "text/plain": [
       "<Figure size 432x288 with 1 Axes>"
      ]
     },
     "metadata": {
      "needs_background": "light"
     },
     "output_type": "display_data"
    }
   ],
   "source": [
    "plt.scatter(target_valid, residual)\n",
    "plt.title('Independence')\n",
    "plt.xlabel('tr_flows_corrected')\n",
    "plt.ylabel('Residuals')\n",
    "plt.show()"
   ]
  },
  {
   "cell_type": "code",
   "execution_count": 98,
   "metadata": {},
   "outputs": [
    {
     "data": {
      "image/png": "[encoded data removed]",
      "text/plain": [
       "<Figure size 432x288 with 1 Axes>"
      ]
     },
     "metadata": {
      "needs_background": "light"
     },
     "output_type": "display_data"
    }
   ],
   "source": [
    "plt.hist(residual, bins =50)\n",
    "\n",
    "plt.show()"
   ]
  },
  {
   "cell_type": "markdown",
   "metadata": {},
   "source": [
    "## Professor asked for "
   ]
  },
  {
   "cell_type": "code",
   "execution_count": 99,
   "metadata": {},
   "outputs": [
    {
     "data": {
      "image/png": "[encoded data removed]",
      "text/plain": [
       "<Figure size 432x288 with 1 Axes>"
      ]
     },
     "metadata": {
      "needs_background": "light"
     },
     "output_type": "display_data"
    }
   ],
   "source": [
    "plt.scatter(correction_term, residual)\n",
    "plt.title('Model check')\n",
    "plt.xlabel('Correction term')\n",
    "plt.ylabel('Residuals')\n",
    "plt.show()"
   ]
  },
  {
   "cell_type": "markdown",
   "metadata": {},
   "source": [
    "## Dummy residuals"
   ]
  },
  {
   "cell_type": "code",
   "execution_count": 100,
   "metadata": {},
   "outputs": [
    {
     "data": {
      "text/html": [
       "<div>\n",
       "<style scoped>\n",
       "    .dataframe tbody tr th:only-of-type {\n",
       "        vertical-align: middle;\n",
       "    }\n",
       "\n",
       "    .dataframe tbody tr th {\n",
       "        vertical-align: top;\n",
       "    }\n",
       "\n",
       "    .dataframe thead th {\n",
       "        text-align: right;\n",
       "    }\n",
       "</style>\n",
       "<table border=\"1\" class=\"dataframe\">\n",
       "  <thead>\n",
       "    <tr style=\"text-align: right;\">\n",
       "      <th></th>\n",
       "      <th>tr_flows_corrected</th>\n",
       "    </tr>\n",
       "  </thead>\n",
       "  <tbody>\n",
       "    <tr>\n",
       "      <th>43414</th>\n",
       "      <td>-2.5</td>\n",
       "    </tr>\n",
       "    <tr>\n",
       "      <th>40284</th>\n",
       "      <td>0.7</td>\n",
       "    </tr>\n",
       "    <tr>\n",
       "      <th>18642</th>\n",
       "      <td>0.5</td>\n",
       "    </tr>\n",
       "    <tr>\n",
       "      <th>21913</th>\n",
       "      <td>-1.4</td>\n",
       "    </tr>\n",
       "    <tr>\n",
       "      <th>15366</th>\n",
       "      <td>0.9</td>\n",
       "    </tr>\n",
       "  </tbody>\n",
       "</table>\n",
       "</div>"
      ],
      "text/plain": [
       "       tr_flows_corrected\n",
       "43414                -2.5\n",
       "40284                 0.7\n",
       "18642                 0.5\n",
       "21913                -1.4\n",
       "15366                 0.9"
      ]
     },
     "execution_count": 100,
     "metadata": {},
     "output_type": "execute_result"
    }
   ],
   "source": [
    "residual = residual.to_frame()\n",
    "residual.head()"
   ]
  },
  {
   "cell_type": "code",
   "execution_count": 101,
   "metadata": {},
   "outputs": [],
   "source": [
    "residual['dummy'] = residual['tr_flows_corrected'].apply(lambda value: 0 if value <0 else 1)"
   ]
  },
  {
   "cell_type": "code",
   "execution_count": 102,
   "metadata": {},
   "outputs": [],
   "source": [
    "feature = correction_term\n",
    "target = residual['dummy']"
   ]
  },
  {
   "cell_type": "code",
   "execution_count": 103,
   "metadata": {},
   "outputs": [],
   "source": [
    "feature_train, feature_valid, target_train, target_valid = train_test_split(\n",
    "    feature, \n",
    "    target, \n",
    "    train_size=0.5, \n",
    "    test_size=0.5, \n",
    "    random_state=12345)"
   ]
  },
  {
   "cell_type": "code",
   "execution_count": 104,
   "metadata": {},
   "outputs": [],
   "source": [
    "model = LinearRegression()\n",
    "model.fit(feature_train.to_numpy().reshape(-1, 1), target_train.to_numpy().reshape(-1, 1))\n",
    "predicted_valid = model.predict(feature_valid.to_numpy().reshape(-1, 1))"
   ]
  },
  {
   "cell_type": "code",
   "execution_count": 105,
   "metadata": {},
   "outputs": [],
   "source": [
    "feature_names = ['dummy_residual']"
   ]
  },
  {
   "cell_type": "code",
   "execution_count": 106,
   "metadata": {},
   "outputs": [],
   "source": [
    "weights = eli5.explain_weights(model, \n",
    "                               top = 300, \n",
    "                               feature_names = feature_names, \n",
    "                               target_names = ['correction_term'])"
   ]
  },
  {
   "cell_type": "code",
   "execution_count": 107,
   "metadata": {},
   "outputs": [],
   "source": [
    "weights = format_as_dataframe(weights)"
   ]
  },
  {
   "cell_type": "code",
   "execution_count": 108,
   "metadata": {},
   "outputs": [
    {
     "data": {
      "text/html": [
       "<div>\n",
       "<style scoped>\n",
       "    .dataframe tbody tr th:only-of-type {\n",
       "        vertical-align: middle;\n",
       "    }\n",
       "\n",
       "    .dataframe tbody tr th {\n",
       "        vertical-align: top;\n",
       "    }\n",
       "\n",
       "    .dataframe thead th {\n",
       "        text-align: right;\n",
       "    }\n",
       "</style>\n",
       "<table border=\"1\" class=\"dataframe\">\n",
       "  <thead>\n",
       "    <tr style=\"text-align: right;\">\n",
       "      <th></th>\n",
       "      <th>target</th>\n",
       "      <th>feature</th>\n",
       "      <th>weight</th>\n",
       "    </tr>\n",
       "  </thead>\n",
       "  <tbody>\n",
       "    <tr>\n",
       "      <th>0</th>\n",
       "      <td>correction_term</td>\n",
       "      <td>&lt;BIAS&gt;</td>\n",
       "      <td>0.6</td>\n",
       "    </tr>\n",
       "    <tr>\n",
       "      <th>1</th>\n",
       "      <td>correction_term</td>\n",
       "      <td>dummy_residual</td>\n",
       "      <td>0.3</td>\n",
       "    </tr>\n",
       "  </tbody>\n",
       "</table>\n",
       "</div>"
      ],
      "text/plain": [
       "            target         feature  weight\n",
       "0  correction_term          <BIAS>     0.6\n",
       "1  correction_term  dummy_residual     0.3"
      ]
     },
     "execution_count": 108,
     "metadata": {},
     "output_type": "execute_result"
    }
   ],
   "source": [
    "weights"
   ]
  },
  {
   "cell_type": "code",
   "execution_count": 109,
   "metadata": {},
   "outputs": [],
   "source": [
    "residual['correction_term'] = correction_term"
   ]
  },
  {
   "cell_type": "code",
   "execution_count": 110,
   "metadata": {},
   "outputs": [
    {
     "data": {
      "image/png": "[encoded data removed]",
      "text/plain": [
       "<Figure size 576x432 with 2 Axes>"
      ]
     },
     "metadata": {
      "needs_background": "light"
     },
     "output_type": "display_data"
    }
   ],
   "source": [
    "corr_pic = residual[['dummy','correction_term']].corr(method ='pearson')\n",
    "\n",
    "fig, ax = plt.subplots(figsize=(8,6)) \n",
    "sns.heatmap(corr_pic, annot=True, ax = ax,cmap=\"YlGnBu\")\n",
    "plt.show()"
   ]
  },
  {
   "cell_type": "code",
   "execution_count": null,
   "metadata": {},
   "outputs": [],
   "source": []
  }
 ],
 "metadata": {
  "kernelspec": {
   "display_name": "Python 3",
   "language": "python",
   "name": "python3"
  },
  "language_info": {
   "codemirror_mode": {
    "name": "ipython",
    "version": 3
   },
   "file_extension": ".py",
   "mimetype": "text/x-python",
   "name": "python",
   "nbconvert_exporter": "python",
   "pygments_lexer": "ipython3",
   "version": "3.9.0"
  }
 },
 "nbformat": 4,
 "nbformat_minor": 4
}
