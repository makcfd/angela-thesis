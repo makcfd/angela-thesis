{
 "cells": [
  {
   "cell_type": "code",
   "execution_count": 11,
   "metadata": {},
   "outputs": [],
   "source": [
    "import pandas as pd\n",
    "import numpy as np\n",
    "import matplotlib.pyplot as plt\n",
    "import seaborn as sns\n",
    "from scipy import stats as st\n",
    "import plotly.graph_objects as go\n",
    "import plotly.express as px\n"
   ]
  },
  {
   "cell_type": "code",
   "execution_count": 2,
   "metadata": {},
   "outputs": [],
   "source": [
    "data = pd.read_csv(\"data2601.csv\", sep=';')"
   ]
  },
  {
   "cell_type": "code",
   "execution_count": 8,
   "metadata": {},
   "outputs": [
    {
     "data": {
      "text/html": [
       "<div>\n",
       "<style scoped>\n",
       "    .dataframe tbody tr th:only-of-type {\n",
       "        vertical-align: middle;\n",
       "    }\n",
       "\n",
       "    .dataframe tbody tr th {\n",
       "        vertical-align: top;\n",
       "    }\n",
       "\n",
       "    .dataframe thead th {\n",
       "        text-align: right;\n",
       "    }\n",
       "</style>\n",
       "<table border=\"1\" class=\"dataframe\">\n",
       "  <thead>\n",
       "    <tr style=\"text-align: right;\">\n",
       "      <th></th>\n",
       "      <th>X.1</th>\n",
       "      <th>X</th>\n",
       "      <th>year</th>\n",
       "      <th>contig</th>\n",
       "      <th>comlang_off</th>\n",
       "      <th>rta</th>\n",
       "      <th>destTotImp</th>\n",
       "    </tr>\n",
       "  </thead>\n",
       "  <tbody>\n",
       "    <tr>\n",
       "      <th>count</th>\n",
       "      <td>48518.000000</td>\n",
       "      <td>48518.000000</td>\n",
       "      <td>48518.000000</td>\n",
       "      <td>48518.000000</td>\n",
       "      <td>48518.000000</td>\n",
       "      <td>48518.000000</td>\n",
       "      <td>4.851800e+04</td>\n",
       "    </tr>\n",
       "    <tr>\n",
       "      <th>mean</th>\n",
       "      <td>37859.157653</td>\n",
       "      <td>47501.842347</td>\n",
       "      <td>2011.020714</td>\n",
       "      <td>0.031844</td>\n",
       "      <td>0.168845</td>\n",
       "      <td>0.326003</td>\n",
       "      <td>3.788410e+09</td>\n",
       "    </tr>\n",
       "    <tr>\n",
       "      <th>std</th>\n",
       "      <td>22730.480278</td>\n",
       "      <td>28948.210955</td>\n",
       "      <td>2.533475</td>\n",
       "      <td>0.175586</td>\n",
       "      <td>0.374618</td>\n",
       "      <td>0.468753</td>\n",
       "      <td>9.214435e+09</td>\n",
       "    </tr>\n",
       "    <tr>\n",
       "      <th>min</th>\n",
       "      <td>0.000000</td>\n",
       "      <td>7.000000</td>\n",
       "      <td>2007.000000</td>\n",
       "      <td>0.000000</td>\n",
       "      <td>0.000000</td>\n",
       "      <td>0.000000</td>\n",
       "      <td>2.666950e+05</td>\n",
       "    </tr>\n",
       "    <tr>\n",
       "      <th>25%</th>\n",
       "      <td>17977.250000</td>\n",
       "      <td>22186.250000</td>\n",
       "      <td>2009.000000</td>\n",
       "      <td>0.000000</td>\n",
       "      <td>0.000000</td>\n",
       "      <td>0.000000</td>\n",
       "      <td>1.497847e+08</td>\n",
       "    </tr>\n",
       "    <tr>\n",
       "      <th>50%</th>\n",
       "      <td>37240.000000</td>\n",
       "      <td>46222.000000</td>\n",
       "      <td>2011.000000</td>\n",
       "      <td>0.000000</td>\n",
       "      <td>0.000000</td>\n",
       "      <td>0.000000</td>\n",
       "      <td>4.942013e+08</td>\n",
       "    </tr>\n",
       "    <tr>\n",
       "      <th>75%</th>\n",
       "      <td>57414.750000</td>\n",
       "      <td>72077.750000</td>\n",
       "      <td>2013.000000</td>\n",
       "      <td>0.000000</td>\n",
       "      <td>0.000000</td>\n",
       "      <td>1.000000</td>\n",
       "      <td>2.332118e+09</td>\n",
       "    </tr>\n",
       "    <tr>\n",
       "      <th>max</th>\n",
       "      <td>78318.000000</td>\n",
       "      <td>100423.000000</td>\n",
       "      <td>2015.000000</td>\n",
       "      <td>1.000000</td>\n",
       "      <td>1.000000</td>\n",
       "      <td>1.000000</td>\n",
       "      <td>8.601413e+10</td>\n",
       "    </tr>\n",
       "  </tbody>\n",
       "</table>\n",
       "</div>"
      ],
      "text/plain": [
       "                X.1              X          year        contig   comlang_off  \\\n",
       "count  48518.000000   48518.000000  48518.000000  48518.000000  48518.000000   \n",
       "mean   37859.157653   47501.842347   2011.020714      0.031844      0.168845   \n",
       "std    22730.480278   28948.210955      2.533475      0.175586      0.374618   \n",
       "min        0.000000       7.000000   2007.000000      0.000000      0.000000   \n",
       "25%    17977.250000   22186.250000   2009.000000      0.000000      0.000000   \n",
       "50%    37240.000000   46222.000000   2011.000000      0.000000      0.000000   \n",
       "75%    57414.750000   72077.750000   2013.000000      0.000000      0.000000   \n",
       "max    78318.000000  100423.000000   2015.000000      1.000000      1.000000   \n",
       "\n",
       "                rta    destTotImp  \n",
       "count  48518.000000  4.851800e+04  \n",
       "mean       0.326003  3.788410e+09  \n",
       "std        0.468753  9.214435e+09  \n",
       "min        0.000000  2.666950e+05  \n",
       "25%        0.000000  1.497847e+08  \n",
       "50%        0.000000  4.942013e+08  \n",
       "75%        1.000000  2.332118e+09  \n",
       "max        1.000000  8.601413e+10  "
      ]
     },
     "execution_count": 8,
     "metadata": {},
     "output_type": "execute_result"
    }
   ],
   "source": [
    "data.describe()"
   ]
  },
  {
   "cell_type": "code",
   "execution_count": 13,
   "metadata": {},
   "outputs": [],
   "source": [
    "data['dist'] = data['dist'].apply(lambda row: row.replace(',','.') if (',' in row) else row)"
   ]
  },
  {
   "cell_type": "code",
   "execution_count": 20,
   "metadata": {},
   "outputs": [],
   "source": [
    "data['gdp_o'] = data['gdp_o'].apply(lambda row: row.replace(',','.') if (',' in row) else row)"
   ]
  },
  {
   "cell_type": "code",
   "execution_count": 21,
   "metadata": {},
   "outputs": [],
   "source": [
    "data['gdp_d'] = data['gdp_d'].apply(lambda row: row.replace(',','.') if (',' in row) else row)"
   ]
  },
  {
   "cell_type": "code",
   "execution_count": 22,
   "metadata": {},
   "outputs": [],
   "source": [
    "data['tr_flows'] = data['tr_flows'].apply(lambda row: row.replace(',','.') if (',' in row) else row)"
   ]
  },
  {
   "cell_type": "code",
   "execution_count": 23,
   "metadata": {},
   "outputs": [],
   "source": [
    "data['gdp_o'] = pd.to_numeric(data['gdp_o'], downcast=\"float\")"
   ]
  },
  {
   "cell_type": "code",
   "execution_count": 24,
   "metadata": {},
   "outputs": [],
   "source": [
    "data['gdp_d'] = pd.to_numeric(data['gdp_d'], downcast=\"float\")"
   ]
  },
  {
   "cell_type": "code",
   "execution_count": 25,
   "metadata": {},
   "outputs": [],
   "source": [
    "data['tr_flows'] = pd.to_numeric(data['tr_flows'], downcast=\"float\")"
   ]
  },
  {
   "cell_type": "code",
   "execution_count": 44,
   "metadata": {},
   "outputs": [
    {
     "data": {
      "text/html": [
       "<div>\n",
       "<style scoped>\n",
       "    .dataframe tbody tr th:only-of-type {\n",
       "        vertical-align: middle;\n",
       "    }\n",
       "\n",
       "    .dataframe tbody tr th {\n",
       "        vertical-align: top;\n",
       "    }\n",
       "\n",
       "    .dataframe thead th {\n",
       "        text-align: right;\n",
       "    }\n",
       "</style>\n",
       "<table border=\"1\" class=\"dataframe\">\n",
       "  <thead>\n",
       "    <tr style=\"text-align: right;\">\n",
       "      <th></th>\n",
       "      <th>X.1</th>\n",
       "      <th>X</th>\n",
       "      <th>year</th>\n",
       "      <th>contig</th>\n",
       "      <th>dist</th>\n",
       "      <th>comlang_off</th>\n",
       "      <th>gdp_o</th>\n",
       "      <th>gdp_d</th>\n",
       "      <th>rta</th>\n",
       "      <th>destTotImp</th>\n",
       "      <th>tr_flows</th>\n",
       "    </tr>\n",
       "  </thead>\n",
       "  <tbody>\n",
       "    <tr>\n",
       "      <th>count</th>\n",
       "      <td>48518.000000</td>\n",
       "      <td>48518.000000</td>\n",
       "      <td>48518.000000</td>\n",
       "      <td>48518.000000</td>\n",
       "      <td>48518.000000</td>\n",
       "      <td>48518.000000</td>\n",
       "      <td>4.851800e+04</td>\n",
       "      <td>4.851800e+04</td>\n",
       "      <td>48518.000000</td>\n",
       "      <td>4.851800e+04</td>\n",
       "      <td>48518.0</td>\n",
       "    </tr>\n",
       "    <tr>\n",
       "      <th>mean</th>\n",
       "      <td>37859.157653</td>\n",
       "      <td>47501.842347</td>\n",
       "      <td>2011.020714</td>\n",
       "      <td>0.031844</td>\n",
       "      <td>6782.147461</td>\n",
       "      <td>0.168845</td>\n",
       "      <td>1.042732e+09</td>\n",
       "      <td>5.429463e+08</td>\n",
       "      <td>0.326003</td>\n",
       "      <td>3.788410e+09</td>\n",
       "      <td>3395394.0</td>\n",
       "    </tr>\n",
       "    <tr>\n",
       "      <th>std</th>\n",
       "      <td>22730.480278</td>\n",
       "      <td>28948.210955</td>\n",
       "      <td>2.533475</td>\n",
       "      <td>0.175586</td>\n",
       "      <td>4540.620117</td>\n",
       "      <td>0.374618</td>\n",
       "      <td>2.307478e+09</td>\n",
       "      <td>1.726169e+09</td>\n",
       "      <td>0.468753</td>\n",
       "      <td>9.214435e+09</td>\n",
       "      <td>5862234.5</td>\n",
       "    </tr>\n",
       "    <tr>\n",
       "      <th>min</th>\n",
       "      <td>0.000000</td>\n",
       "      <td>7.000000</td>\n",
       "      <td>2007.000000</td>\n",
       "      <td>0.000000</td>\n",
       "      <td>59.617001</td>\n",
       "      <td>0.000000</td>\n",
       "      <td>3.185223e+05</td>\n",
       "      <td>1.230051e+05</td>\n",
       "      <td>0.000000</td>\n",
       "      <td>2.666950e+05</td>\n",
       "      <td>1.0</td>\n",
       "    </tr>\n",
       "    <tr>\n",
       "      <th>25%</th>\n",
       "      <td>17977.250000</td>\n",
       "      <td>22186.250000</td>\n",
       "      <td>2009.000000</td>\n",
       "      <td>0.000000</td>\n",
       "      <td>2742.321045</td>\n",
       "      <td>0.000000</td>\n",
       "      <td>9.752538e+07</td>\n",
       "      <td>1.444068e+07</td>\n",
       "      <td>0.000000</td>\n",
       "      <td>1.497847e+08</td>\n",
       "      <td>69975.5</td>\n",
       "    </tr>\n",
       "    <tr>\n",
       "      <th>50%</th>\n",
       "      <td>37240.000000</td>\n",
       "      <td>46222.000000</td>\n",
       "      <td>2011.000000</td>\n",
       "      <td>0.000000</td>\n",
       "      <td>6442.977539</td>\n",
       "      <td>0.000000</td>\n",
       "      <td>2.895484e+08</td>\n",
       "      <td>5.534800e+07</td>\n",
       "      <td>0.000000</td>\n",
       "      <td>4.942013e+08</td>\n",
       "      <td>609556.5</td>\n",
       "    </tr>\n",
       "    <tr>\n",
       "      <th>75%</th>\n",
       "      <td>57414.750000</td>\n",
       "      <td>72077.750000</td>\n",
       "      <td>2013.000000</td>\n",
       "      <td>0.000000</td>\n",
       "      <td>9656.951172</td>\n",
       "      <td>0.000000</td>\n",
       "      <td>9.262833e+08</td>\n",
       "      <td>3.189079e+08</td>\n",
       "      <td>1.000000</td>\n",
       "      <td>2.332118e+09</td>\n",
       "      <td>3757539.5</td>\n",
       "    </tr>\n",
       "    <tr>\n",
       "      <th>max</th>\n",
       "      <td>78318.000000</td>\n",
       "      <td>100423.000000</td>\n",
       "      <td>2015.000000</td>\n",
       "      <td>1.000000</td>\n",
       "      <td>19812.042969</td>\n",
       "      <td>1.000000</td>\n",
       "      <td>1.803665e+10</td>\n",
       "      <td>1.803665e+10</td>\n",
       "      <td>1.000000</td>\n",
       "      <td>8.601413e+10</td>\n",
       "      <td>28845252.0</td>\n",
       "    </tr>\n",
       "  </tbody>\n",
       "</table>\n",
       "</div>"
      ],
      "text/plain": [
       "                X.1              X          year        contig          dist  \\\n",
       "count  48518.000000   48518.000000  48518.000000  48518.000000  48518.000000   \n",
       "mean   37859.157653   47501.842347   2011.020714      0.031844   6782.147461   \n",
       "std    22730.480278   28948.210955      2.533475      0.175586   4540.620117   \n",
       "min        0.000000       7.000000   2007.000000      0.000000     59.617001   \n",
       "25%    17977.250000   22186.250000   2009.000000      0.000000   2742.321045   \n",
       "50%    37240.000000   46222.000000   2011.000000      0.000000   6442.977539   \n",
       "75%    57414.750000   72077.750000   2013.000000      0.000000   9656.951172   \n",
       "max    78318.000000  100423.000000   2015.000000      1.000000  19812.042969   \n",
       "\n",
       "        comlang_off         gdp_o         gdp_d           rta    destTotImp  \\\n",
       "count  48518.000000  4.851800e+04  4.851800e+04  48518.000000  4.851800e+04   \n",
       "mean       0.168845  1.042732e+09  5.429463e+08      0.326003  3.788410e+09   \n",
       "std        0.374618  2.307478e+09  1.726169e+09      0.468753  9.214435e+09   \n",
       "min        0.000000  3.185223e+05  1.230051e+05      0.000000  2.666950e+05   \n",
       "25%        0.000000  9.752538e+07  1.444068e+07      0.000000  1.497847e+08   \n",
       "50%        0.000000  2.895484e+08  5.534800e+07      0.000000  4.942013e+08   \n",
       "75%        0.000000  9.262833e+08  3.189079e+08      1.000000  2.332118e+09   \n",
       "max        1.000000  1.803665e+10  1.803665e+10      1.000000  8.601413e+10   \n",
       "\n",
       "         tr_flows  \n",
       "count     48518.0  \n",
       "mean    3395394.0  \n",
       "std     5862234.5  \n",
       "min           1.0  \n",
       "25%       69975.5  \n",
       "50%      609556.5  \n",
       "75%     3757539.5  \n",
       "max    28845252.0  "
      ]
     },
     "execution_count": 44,
     "metadata": {},
     "output_type": "execute_result"
    }
   ],
   "source": [
    "data.describe()"
   ]
  },
  {
   "cell_type": "code",
   "execution_count": 18,
   "metadata": {},
   "outputs": [
    {
     "data": {
      "image/png": "[encoded data removed]",
      "text/plain": [
       "<Figure size 432x288 with 1 Axes>"
      ]
     },
     "metadata": {
      "needs_background": "light"
     },
     "output_type": "display_data"
    }
   ],
   "source": [
    "#plt.ylim(0,10)\n",
    "plt.boxplot(data['dist'])\n",
    "plt.show()"
   ]
  },
  {
   "cell_type": "code",
   "execution_count": 26,
   "metadata": {},
   "outputs": [
    {
     "data": {
      "image/png": "[encoded data removed]",
      "text/plain": [
       "<Figure size 432x288 with 1 Axes>"
      ]
     },
     "metadata": {
      "needs_background": "light"
     },
     "output_type": "display_data"
    }
   ],
   "source": [
    "#plt.ylim(0,10)\n",
    "plt.boxplot(data['gdp_o'])\n",
    "plt.show()"
   ]
  },
  {
   "cell_type": "code",
   "execution_count": 27,
   "metadata": {},
   "outputs": [
    {
     "data": {
      "image/png": "[encoded data removed]",
      "text/plain": [
       "<Figure size 432x288 with 1 Axes>"
      ]
     },
     "metadata": {
      "needs_background": "light"
     },
     "output_type": "display_data"
    }
   ],
   "source": [
    "#plt.ylim(0,10)\n",
    "plt.boxplot(data['gdp_d'])\n",
    "plt.show()"
   ]
  },
  {
   "cell_type": "code",
   "execution_count": 37,
   "metadata": {},
   "outputs": [
    {
     "data": {
      "image/png": "[encoded data removed]",
      "text/plain": [
       "<Figure size 432x288 with 1 Axes>"
      ]
     },
     "metadata": {
      "needs_background": "light"
     },
     "output_type": "display_data"
    }
   ],
   "source": [
    "plt.ylim(9000000,9300000)\n",
    "plt.boxplot(data['tr_flows'])\n",
    "plt.show()"
   ]
  },
  {
   "cell_type": "code",
   "execution_count": 38,
   "metadata": {},
   "outputs": [],
   "source": [
    "data_no_outliers_tr_flows = data[data['tr_flows'] < 9250000]"
   ]
  },
  {
   "cell_type": "code",
   "execution_count": 42,
   "metadata": {},
   "outputs": [],
   "source": [
    "data_with_outliers_tr_flows = data[data['tr_flows'] >= 9250000]"
   ]
  },
  {
   "cell_type": "code",
   "execution_count": 40,
   "metadata": {},
   "outputs": [
    {
     "data": {
      "image/png": "[encoded data removed]",
      "text/plain": [
       "<Figure size 432x288 with 1 Axes>"
      ]
     },
     "metadata": {
      "needs_background": "light"
     },
     "output_type": "display_data"
    }
   ],
   "source": [
    "#plt.ylim(9000000,9300000)\n",
    "plt.boxplot(data_no_outliers_tr_flows['tr_flows'])\n",
    "plt.show()"
   ]
  },
  {
   "cell_type": "code",
   "execution_count": 41,
   "metadata": {},
   "outputs": [
    {
     "data": {
      "text/plain": [
       "iso3_o  iso3_d\n",
       "GRC     CHL       9\n",
       "NLD     ISL       9\n",
       "HKG     THA       9\n",
       "NLD     GUY       9\n",
       "HKG     TTO       9\n",
       "                 ..\n",
       "DNK     TUN       1\n",
       "ISR     CHN       1\n",
       "PAN     PER       1\n",
       "ISR     CZE       1\n",
       "NOR     FIN       1\n",
       "Length: 5575, dtype: int64"
      ]
     },
     "execution_count": 41,
     "metadata": {},
     "output_type": "execute_result"
    }
   ],
   "source": [
    "data_no_outliers_tr_flows[['iso3_o','iso3_d']].value_counts()"
   ]
  },
  {
   "cell_type": "code",
   "execution_count": 43,
   "metadata": {},
   "outputs": [
    {
     "data": {
      "text/plain": [
       "iso3_o  iso3_d\n",
       "FIN     POL       9\n",
       "SVN     BLR       9\n",
       "FIN     NOR       9\n",
       "ITA     JOR       9\n",
       "FIN     KOR       9\n",
       "                 ..\n",
       "IND     BLR       1\n",
       "NOR     IRL       1\n",
       "CHE     GTM       1\n",
       "SVK     DEU       1\n",
       "DEU     PER       1\n",
       "Length: 1565, dtype: int64"
      ]
     },
     "execution_count": 43,
     "metadata": {},
     "output_type": "execute_result"
    }
   ],
   "source": [
    "data_with_outliers_tr_flows[['iso3_o','iso3_d']].value_counts()"
   ]
  },
  {
   "cell_type": "code",
   "execution_count": 4,
   "metadata": {},
   "outputs": [],
   "source": [
    "data_iso = data[['iso3_o','iso3_d']].value_counts()"
   ]
  },
  {
   "cell_type": "code",
   "execution_count": 25,
   "metadata": {},
   "outputs": [],
   "source": [
    "data_iso.to_csv('data_iso.csv')"
   ]
  },
  {
   "cell_type": "code",
   "execution_count": 20,
   "metadata": {},
   "outputs": [
    {
     "name": "stderr",
     "output_type": "stream",
     "text": [
      "<ipython-input-20-663e2fb2c71d>:1: SettingWithCopyWarning: \n",
      "A value is trying to be set on a copy of a slice from a DataFrame\n",
      "\n",
      "See the caveats in the documentation: https://pandas.pydata.org/pandas-docs/stable/user_guide/indexing.html#returning-a-view-versus-a-copy\n",
      "  data_iso.drop_duplicates(inplace=True)\n"
     ]
    }
   ],
   "source": [
    "data_iso.drop_duplicates(inplace=True)"
   ]
  },
  {
   "cell_type": "code",
   "execution_count": 30,
   "metadata": {},
   "outputs": [],
   "source": [
    "data_iso_o = data['iso3_o']"
   ]
  },
  {
   "cell_type": "code",
   "execution_count": 32,
   "metadata": {},
   "outputs": [],
   "source": [
    "data_iso_d = data['iso3_d']"
   ]
  },
  {
   "cell_type": "code",
   "execution_count": 33,
   "metadata": {},
   "outputs": [],
   "source": [
    "df = pd.concat([data_iso_o, data_iso_d], axis = 0)"
   ]
  },
  {
   "cell_type": "code",
   "execution_count": 35,
   "metadata": {},
   "outputs": [],
   "source": [
    "df.drop_duplicates(inplace=True)"
   ]
  },
  {
   "cell_type": "code",
   "execution_count": 38,
   "metadata": {},
   "outputs": [],
   "source": [
    "df.to_csv('unique_iso.csv')"
   ]
  },
  {
   "cell_type": "code",
   "execution_count": 47,
   "metadata": {},
   "outputs": [],
   "source": [
    "df2 = df.reset_index()"
   ]
  },
  {
   "cell_type": "code",
   "execution_count": 50,
   "metadata": {},
   "outputs": [],
   "source": [
    "df2.drop('index',axis=1,inplace=True)"
   ]
  },
  {
   "cell_type": "code",
   "execution_count": 51,
   "metadata": {},
   "outputs": [
    {
     "data": {
      "text/html": [
       "<div>\n",
       "<style scoped>\n",
       "    .dataframe tbody tr th:only-of-type {\n",
       "        vertical-align: middle;\n",
       "    }\n",
       "\n",
       "    .dataframe tbody tr th {\n",
       "        vertical-align: top;\n",
       "    }\n",
       "\n",
       "    .dataframe thead th {\n",
       "        text-align: right;\n",
       "    }\n",
       "</style>\n",
       "<table border=\"1\" class=\"dataframe\">\n",
       "  <thead>\n",
       "    <tr style=\"text-align: right;\">\n",
       "      <th></th>\n",
       "      <th>0</th>\n",
       "    </tr>\n",
       "  </thead>\n",
       "  <tbody>\n",
       "    <tr>\n",
       "      <th>0</th>\n",
       "      <td>ALB</td>\n",
       "    </tr>\n",
       "    <tr>\n",
       "      <th>1</th>\n",
       "      <td>DZA</td>\n",
       "    </tr>\n",
       "    <tr>\n",
       "      <th>2</th>\n",
       "      <td>AND</td>\n",
       "    </tr>\n",
       "    <tr>\n",
       "      <th>3</th>\n",
       "      <td>AGO</td>\n",
       "    </tr>\n",
       "    <tr>\n",
       "      <th>4</th>\n",
       "      <td>AZE</td>\n",
       "    </tr>\n",
       "    <tr>\n",
       "      <th>...</th>\n",
       "      <td>...</td>\n",
       "    </tr>\n",
       "    <tr>\n",
       "      <th>149</th>\n",
       "      <td>STP</td>\n",
       "    </tr>\n",
       "    <tr>\n",
       "      <th>150</th>\n",
       "      <td>KNA</td>\n",
       "    </tr>\n",
       "    <tr>\n",
       "      <th>151</th>\n",
       "      <td>LCA</td>\n",
       "    </tr>\n",
       "    <tr>\n",
       "      <th>152</th>\n",
       "      <td>AFG</td>\n",
       "    </tr>\n",
       "    <tr>\n",
       "      <th>153</th>\n",
       "      <td>LSO</td>\n",
       "    </tr>\n",
       "  </tbody>\n",
       "</table>\n",
       "<p>154 rows × 1 columns</p>\n",
       "</div>"
      ],
      "text/plain": [
       "       0\n",
       "0    ALB\n",
       "1    DZA\n",
       "2    AND\n",
       "3    AGO\n",
       "4    AZE\n",
       "..   ...\n",
       "149  STP\n",
       "150  KNA\n",
       "151  LCA\n",
       "152  AFG\n",
       "153  LSO\n",
       "\n",
       "[154 rows x 1 columns]"
      ]
     },
     "execution_count": 51,
     "metadata": {},
     "output_type": "execute_result"
    }
   ],
   "source": [
    "df2"
   ]
  },
  {
   "cell_type": "code",
   "execution_count": 52,
   "metadata": {},
   "outputs": [],
   "source": [
    "df2.to_csv('unique_iso.csv')"
   ]
  },
  {
   "cell_type": "code",
   "execution_count": null,
   "metadata": {},
   "outputs": [],
   "source": []
  }
 ],
 "metadata": {
  "kernelspec": {
   "display_name": "Python 3",
   "language": "python",
   "name": "python3"
  },
  "language_info": {
   "codemirror_mode": {
    "name": "ipython",
    "version": 3
   },
   "file_extension": ".py",
   "mimetype": "text/x-python",
   "name": "python",
   "nbconvert_exporter": "python",
   "pygments_lexer": "ipython3",
   "version": "3.9.0"
  }
 },
 "nbformat": 4,
 "nbformat_minor": 4
}
